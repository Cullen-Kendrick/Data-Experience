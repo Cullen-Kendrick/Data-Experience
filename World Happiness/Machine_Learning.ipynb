{
  "nbformat": 4,
  "nbformat_minor": 0,
  "metadata": {
    "colab": {
      "provenance": [],
      "toc_visible": true,
      "authorship_tag": "ABX9TyMFYRpr83XIMkoU5IR/UUoI",
      "include_colab_link": true
    },
    "kernelspec": {
      "name": "python3",
      "display_name": "Python 3"
    },
    "language_info": {
      "name": "python"
    }
  },
  "cells": [
    {
      "cell_type": "markdown",
      "metadata": {
        "id": "view-in-github",
        "colab_type": "text"
      },
      "source": [
        "<a href=\"https://colab.research.google.com/github/Cullen-Kendrick/Data-Experience/blob/main/Machine_Learning.ipynb\" target=\"_parent\"><img src=\"https://colab.research.google.com/assets/colab-badge.svg\" alt=\"Open In Colab\"/></a>"
      ]
    },
    {
      "cell_type": "code",
      "execution_count": null,
      "metadata": {
        "id": "mzyWEmW85KZu"
      },
      "outputs": [],
      "source": [
        "import pandas as pd\n",
        "import seaborn as sns\n",
        "from sklearn.compose import make_column_transformer\n",
        "from sklearn.pipeline import make_pipeline\n",
        "from sklearn.preprocessing import StandardScaler\n",
        "from sklearn.neighbors import KNeighborsRegressor\n",
        "from sklearn.model_selection import cross_val_score\n",
        "\n",
        "df = pd.read_csv(\"https://raw.githubusercontent.com/Cullen-Kendrick/Data-219/main/clean_data.csv\")"
      ]
    },
    {
      "cell_type": "markdown",
      "source": [
        "*Explination*\n",
        "---\n",
        "* Correlation and Feature Selection\n",
        " * I repeated use a correlation matrix in order to inform how I construct my\n",
        "machine learning models. I did this to ensure that the features that ended up in the final model. To visualize that martix I used the seaborn heatmap.\n",
        "* Parameter Hyper-Tuning\n",
        " * For the parameter hyper-tuning I did two things, run through the multiple metrics for KNearestNieghbors. I did to ensure the best predictions possible. And I checked many different numbers of nieghbors. I did this because it can tell me how far spread out these countries are."
      ],
      "metadata": {
        "id": "xvh1HZfxQzmb"
      }
    },
    {
      "cell_type": "markdown",
      "source": [
        "# Global View\n"
      ],
      "metadata": {
        "id": "kbe5LtrQewJv"
      }
    },
    {
      "cell_type": "code",
      "source": [
        "bare_df = df.drop(columns=['Country name', 'year', 'Region'])\n",
        "corr = bare_df.corr()\n",
        "sns.heatmap(corr)"
      ],
      "metadata": {
        "colab": {
          "base_uri": "https://localhost:8080/",
          "height": 508
        },
        "id": "aD9jPhq6eCWu",
        "outputId": "4a929df1-63ed-4577-9f18-ae6c14b0fce7"
      },
      "execution_count": null,
      "outputs": [
        {
          "output_type": "execute_result",
          "data": {
            "text/plain": [
              "<Axes: >"
            ]
          },
          "metadata": {},
          "execution_count": 296
        },
        {
          "output_type": "display_data",
          "data": {
            "text/plain": [
              "<Figure size 640x480 with 2 Axes>"
            ],
            "image/png": "[encoded data removed]"
          },
          "metadata": {}
        }
      ]
    },
    {
      "cell_type": "code",
      "source": [
        "    # General\n",
        "gen_x = bare_df[['GDP', 'support', 'life_expec', 'agency', 'gen', 'corrup']]\n",
        "gen_y = bare_df['happy']\n",
        "\n",
        "col_trans = make_column_transformer(\n",
        "    (StandardScaler(), ['GDP', 'support',\n",
        "     'life_expec', 'agency', 'gen', 'corrup']),\n",
        "    remainder='drop')\n",
        "\n",
        "pipeline = make_pipeline(\n",
        "    col_trans,\n",
        "    KNeighborsRegressor(n_neighbors=10))\n",
        "\n",
        "scores = cross_val_score(\n",
        "    pipeline,\n",
        "    X=gen_x,\n",
        "    y=gen_y,\n",
        "    scoring='neg_mean_squared_error',\n",
        "    cv=10)\n",
        "print(-scores.mean(), 'all factors')\n",
        "\n",
        "col_trans = make_column_transformer(\n",
        "    (StandardScaler(), ['GDP', 'support', 'life_expec']),\n",
        "    remainder='drop')\n",
        "\n",
        "pipeline = make_pipeline(\n",
        "    col_trans,\n",
        "    KNeighborsRegressor(n_neighbors=10))\n",
        "\n",
        "scores = cross_val_score(\n",
        "    pipeline,\n",
        "    X=gen_x[['GDP', 'support', 'life_expec']],\n",
        "    y = gen_y,\n",
        "    scoring= 'neg_mean_squared_error',\n",
        "    cv = 10)\n",
        "print(-scores.mean(), 'General 2')\n",
        "\n",
        "col_trans = make_column_transformer(\n",
        "    (StandardScaler(), ['GDP', 'life_expec', 'agency']),\n",
        "    remainder='drop')\n",
        "\n",
        "pipeline = make_pipeline(\n",
        "    col_trans,\n",
        "    KNeighborsRegressor(n_neighbors=10))\n",
        "\n",
        "scores = cross_val_score(\n",
        "    pipeline,\n",
        "    X=gen_x[['GDP', 'life_expec', 'agency']],\n",
        "    y = gen_y,\n",
        "    scoring= 'neg_mean_squared_error',\n",
        "    cv = 10)\n",
        "print(-scores.mean(), 'General 3')\n",
        "\n",
        "col_trans = make_column_transformer(\n",
        "    (StandardScaler(), ['GDP']),\n",
        "    remainder='drop')\n",
        "\n",
        "pipeline = make_pipeline(\n",
        "    col_trans,\n",
        "    KNeighborsRegressor(n_neighbors=10))\n",
        "\n",
        "scores = cross_val_score(\n",
        "    pipeline,\n",
        "    X=gen_x[['GDP']],\n",
        "    y = gen_y,\n",
        "    scoring= 'neg_mean_squared_error',\n",
        "    cv = 10)\n",
        "print(-scores.mean(), 'General 4')\n",
        "\n",
        "col_trans = make_column_transformer(\n",
        "    (StandardScaler(), ['GDP', 'support',\n",
        "     'life_expec', 'agency', 'gen']),\n",
        "    remainder='drop')\n",
        "\n",
        "pipeline = make_pipeline(\n",
        "    col_trans,\n",
        "    KNeighborsRegressor(n_neighbors=10))\n",
        "\n",
        "scores = cross_val_score(\n",
        "    pipeline,\n",
        "    X=gen_x,\n",
        "    y=gen_y,\n",
        "    scoring='neg_mean_squared_error',\n",
        "    cv=10)\n",
        "print(-scores.mean(), 'General 5')"
      ],
      "metadata": {
        "colab": {
          "base_uri": "https://localhost:8080/"
        },
        "id": "mzTZVBA4eERN",
        "outputId": "56dc8caf-49f4-4eba-b2f9-2cb4ef162499"
      },
      "execution_count": null,
      "outputs": [
        {
          "output_type": "stream",
          "name": "stdout",
          "text": [
            "0.3627163171819058 all factors\n",
            "0.35515932290822155 General 2\n",
            "0.3746355238817682 General 3\n",
            "0.4785469195143447 General 4\n",
            "0.35356879744048847 General 5\n"
          ]
        }
      ]
    },
    {
      "cell_type": "code",
      "source": [
        "col_trans = make_column_transformer(\n",
        "    (StandardScaler(), ['GDP', 'support', 'life_expec', 'agency']),\n",
        "    remainder='drop')\n",
        "\n",
        "pipeline = make_pipeline(\n",
        "    col_trans,\n",
        "    KNeighborsRegressor(n_neighbors=10))\n",
        "\n",
        "scores = cross_val_score(\n",
        "    pipeline,\n",
        "    X=gen_x[['GDP', 'support', 'life_expec', 'agency']],\n",
        "    y = gen_y,\n",
        "    scoring= 'neg_mean_squared_error',\n",
        "    cv = 10)\n",
        "print(-scores.mean(), 'General Best Features')"
      ],
      "metadata": {
        "colab": {
          "base_uri": "https://localhost:8080/"
        },
        "id": "vwO8rXaufC_e",
        "outputId": "f2b1c713-57d0-498e-f03c-7e0cd753cfa1"
      },
      "execution_count": null,
      "outputs": [
        {
          "output_type": "stream",
          "name": "stdout",
          "text": [
            "0.3443757037554524 General Best Features\n"
          ]
        }
      ]
    },
    {
      "cell_type": "code",
      "source": [
        "metrics = ['cosine', 'euclidean',\n",
        "           'l1', 'l2', 'manhattan']\n",
        "for metric in metrics:\n",
        "    pipeline = make_pipeline(\n",
        "      col_trans,\n",
        "      KNeighborsRegressor(n_neighbors=10, metric= metric))\n",
        "    scores = cross_val_score(\n",
        "      pipeline,\n",
        "      X=gen_x[['GDP', 'support', 'life_expec', 'agency']],\n",
        "      y = gen_y,\n",
        "      scoring= 'neg_mean_squared_error',\n",
        "      cv = 10)\n",
        "    print(metric, -scores.mean())\n",
        "    #best metric is manhattan"
      ],
      "metadata": {
        "colab": {
          "base_uri": "https://localhost:8080/"
        },
        "id": "Ohov8LZiejKL",
        "outputId": "1f0b4fcf-a007-4e8b-df89-1c6d28393295"
      },
      "execution_count": null,
      "outputs": [
        {
          "output_type": "stream",
          "name": "stdout",
          "text": [
            "cosine 0.43275775862390775\n",
            "euclidean 0.3443757037554524\n",
            "l1 0.3416900348276917\n",
            "l2 0.3443757037554524\n",
            "manhattan 0.3416900348276917\n"
          ]
        }
      ]
    },
    {
      "cell_type": "code",
      "source": [
        "ks = []\n",
        "for i in range(1,100):\n",
        "    pipeline = make_pipeline(\n",
        "      col_trans,\n",
        "      KNeighborsRegressor(n_neighbors=i, metric= 'manhattan'))\n",
        "    scores = cross_val_score(\n",
        "      pipeline,\n",
        "      X=gen_x[['GDP', 'support', 'life_expec', 'agency']],\n",
        "      y = gen_y,\n",
        "      scoring= 'neg_mean_squared_error',\n",
        "      cv = 10)\n",
        "    avg = -1*(scores.mean())\n",
        "    ks.append(avg)\n",
        "    print(i, avg)\n",
        "\n",
        "line_plot = pd.Series(ks, index=range(1, 100)).plot.line()\n",
        "line_plot.set_xlabel(\"k\")\n",
        "line_plot.set_ylabel(\"Test RMSE\")\n",
        "#best number of neighbors is 54"
      ],
      "metadata": {
        "colab": {
          "base_uri": "https://localhost:8080/",
          "height": 1000
        },
        "id": "z9xih_sDevBb",
        "outputId": "af5016ed-fb55-4e9a-b691-f7011d97d86e"
      },
      "execution_count": null,
      "outputs": [
        {
          "output_type": "stream",
          "name": "stdout",
          "text": [
            "1 0.5552699391812865\n",
            "2 0.4570216315729275\n",
            "3 0.40804861550548494\n",
            "4 0.38527082491916065\n",
            "5 0.37593568039656\n",
            "6 0.3669497496127165\n",
            "7 0.35745730824961564\n",
            "8 0.3504427543993486\n",
            "9 0.34383196110418873\n",
            "10 0.3416900348276917\n",
            "11 0.33790135842034197\n",
            "12 0.3345665612215725\n",
            "13 0.33126889455969366\n",
            "14 0.33021693799953317\n",
            "15 0.32927158593298933\n",
            "16 0.3281880539933915\n",
            "17 0.3268857650127541\n",
            "18 0.3246285072969567\n",
            "19 0.3241005112050767\n",
            "20 0.324442584206751\n",
            "21 0.3249315752074632\n",
            "22 0.3239865992727159\n",
            "23 0.3235344399829628\n",
            "24 0.32357718810450947\n",
            "25 0.32313151971736087\n",
            "26 0.3235415849313227\n",
            "27 0.3234120432130381\n",
            "28 0.32300806723012887\n",
            "29 0.3225680451045674\n",
            "30 0.32194568725871264\n",
            "31 0.3222380402285703\n",
            "32 0.321928175351324\n",
            "33 0.32084964115283304\n",
            "34 0.3212725182359994\n",
            "35 0.32137555657146233\n",
            "36 0.3207438745187382\n",
            "37 0.3197893802403307\n",
            "38 0.3204107248341071\n",
            "39 0.31996986367443336\n",
            "40 0.31985797089605694\n",
            "41 0.3203418083283105\n",
            "42 0.31973524454347235\n",
            "43 0.31956728615572194\n",
            "44 0.31929824588950295\n",
            "45 0.31937697355554023\n",
            "46 0.31910354325539586\n",
            "47 0.3188001576611068\n",
            "48 0.31920604157301996\n",
            "49 0.3183886674908073\n",
            "50 0.3184926231017874\n",
            "51 0.3182517490842306\n",
            "52 0.3179823498780286\n",
            "53 0.31794275416880574\n",
            "54 0.3178267550323235\n",
            "55 0.31790134848295276\n",
            "56 0.31805543105457534\n",
            "57 0.31842644292317723\n",
            "58 0.3182994728549583\n",
            "59 0.31841381184327283\n",
            "60 0.3187950387377642\n",
            "61 0.3186248655562758\n",
            "62 0.3190565211924212\n",
            "63 0.3193570816821552\n",
            "64 0.3188077427296837\n",
            "65 0.31944621700947684\n",
            "66 0.3195355417160393\n",
            "67 0.3195195910024006\n",
            "68 0.319238060250877\n",
            "69 0.3196525258446361\n",
            "70 0.3196817051185653\n",
            "71 0.31936590853300084\n",
            "72 0.3190592973091339\n",
            "73 0.31909152375502203\n",
            "74 0.318796700739682\n",
            "75 0.3187547578909434\n",
            "76 0.31929789410041687\n",
            "77 0.3190152967033361\n",
            "78 0.31893739695337575\n",
            "79 0.31938334531780005\n",
            "80 0.31949315550093466\n",
            "81 0.3196014342328518\n",
            "82 0.31974277159086195\n",
            "83 0.31954261477905405\n",
            "84 0.31973597661749975\n",
            "85 0.319803733429573\n",
            "86 0.3198515349330698\n",
            "87 0.31995293728062424\n",
            "88 0.3197705225994407\n",
            "89 0.3199762725475322\n",
            "90 0.3201095465941669\n",
            "91 0.3200344356968815\n",
            "92 0.3201327335057941\n",
            "93 0.3200735034542331\n",
            "94 0.3199771018918113\n",
            "95 0.31977663065055656\n",
            "96 0.32030399325835274\n",
            "97 0.3205881304988688\n",
            "98 0.32040579805488\n",
            "99 0.3203200016235049\n"
          ]
        },
        {
          "output_type": "execute_result",
          "data": {
            "text/plain": [
              "Text(0, 0.5, 'Test RMSE')"
            ]
          },
          "metadata": {},
          "execution_count": 300
        },
        {
          "output_type": "display_data",
          "data": {
            "text/plain": [
              "<Figure size 640x480 with 1 Axes>"
            ],
            "image/png": "[encoded data removed]"
          },
          "metadata": {}
        }
      ]
    },
    {
      "cell_type": "code",
      "source": [
        "col_trans = make_column_transformer(\n",
        "    (StandardScaler(), ['GDP', 'support', 'life_expec', 'agency']),\n",
        "    remainder='drop')\n",
        "\n",
        "pipeline = make_pipeline(\n",
        "    col_trans,\n",
        "    KNeighborsRegressor(n_neighbors=54, metric= 'manhattan'))\n",
        "\n",
        "scores = cross_val_score(\n",
        "    pipeline,\n",
        "    X=gen_x[['GDP', 'support', 'life_expec', 'agency']],\n",
        "    y = gen_y,\n",
        "    scoring= 'neg_mean_squared_error',\n",
        "    cv = 10)\n",
        "print(-scores.mean(), 'Optimized General Prediction')"
      ],
      "metadata": {
        "colab": {
          "base_uri": "https://localhost:8080/"
        },
        "id": "KUlncXUMhWBs",
        "outputId": "07bd9ea3-8ad5-431e-ab9e-f8630293104d"
      },
      "execution_count": null,
      "outputs": [
        {
          "output_type": "stream",
          "name": "stdout",
          "text": [
            "0.3178267550323235 Optimized General Prediction\n"
          ]
        }
      ]
    },
    {
      "cell_type": "markdown",
      "source": [
        "*Interpretation*\n",
        "---\n",
        "1. Correlation and Heatmap: Across Happiness there seems to be high correlation for every variable, and even corruption is negativly correlated which is still a strong relationship.\n",
        "2. Feature Choice: The best model for prediction includes: GDP, support, life_expec, and agency. This means we can best predict a countries happiness when taking into consideration economic prosperity, community, health and the freedom to make choices.\n",
        "3. Parameters: The metric for judging this 'manhattan' and the number of nieghbors is 54. This tells me that having a large number of data points that are close together provide the best position to predict the happiness of the country.\n",
        "4. Error: The mean error for this model is 0.31, meaning that given a countries GPD, community, health, and agency this model could provide a predicted happiness with an error of 0.31 on a ten point scale. That is pretty good predictive power for the entire world!"
      ],
      "metadata": {
        "id": "5FBf96OhTpud"
      }
    },
    {
      "cell_type": "markdown",
      "source": [
        "# South Asia"
      ],
      "metadata": {
        "id": "uoVWEOmVfT-g"
      }
    },
    {
      "cell_type": "code",
      "source": [
        "df_SA = bare_df[df.Region == 'South Asia']\n",
        "corr_SA = df_SA.corr()\n",
        "sns.heatmap(corr_SA)"
      ],
      "metadata": {
        "colab": {
          "base_uri": "https://localhost:8080/",
          "height": 508
        },
        "id": "iPrn6UVugZP-",
        "outputId": "96d093cd-9f85-4685-e04e-7a9c11f0ff6a"
      },
      "execution_count": null,
      "outputs": [
        {
          "output_type": "execute_result",
          "data": {
            "text/plain": [
              "<Axes: >"
            ]
          },
          "metadata": {},
          "execution_count": 302
        },
        {
          "output_type": "display_data",
          "data": {
            "text/plain": [
              "<Figure size 640x480 with 2 Axes>"
            ],
            "image/png": "[encoded data removed]"
          },
          "metadata": {}
        }
      ]
    },
    {
      "cell_type": "code",
      "source": [
        "col_trans = make_column_transformer(\n",
        "    (StandardScaler(), ['GDP', 'support',\n",
        "     'life_expec', 'agency', 'gen', 'corrup']),\n",
        "    remainder='drop')\n",
        "\n",
        "pipeline = make_pipeline(\n",
        "    col_trans,\n",
        "    KNeighborsRegressor(n_neighbors=10))\n",
        "\n",
        "scores = cross_val_score(\n",
        "    pipeline,\n",
        "    X=df_SA[['GDP', 'support', 'life_expec', 'agency', 'gen', 'corrup']],\n",
        "    y = df_SA['happy'],\n",
        "    cv=10)\n",
        "print(-scores.mean(), 'SA all factors')\n",
        "\n",
        "col_trans = make_column_transformer(\n",
        "    (StandardScaler(), ['GDP', 'support',\n",
        "     'life_expec', 'gen']),\n",
        "    remainder='drop')\n",
        "pipeline = make_pipeline(\n",
        "    col_trans,\n",
        "    KNeighborsRegressor(n_neighbors= 10))\n",
        "scores = cross_val_score(\n",
        "    pipeline,\n",
        "    X=df_SA[['GDP', 'support', 'life_expec', 'gen']],\n",
        "    y = df_SA['happy'],\n",
        "    scoring= 'neg_mean_squared_error',\n",
        "    cv = 10)\n",
        "print(-scores.mean(), 'SA 1')"
      ],
      "metadata": {
        "colab": {
          "base_uri": "https://localhost:8080/"
        },
        "id": "nXMHebxLgYmK",
        "outputId": "9f35788b-e8dd-4060-a9fe-89f6fb4b34f3"
      },
      "execution_count": null,
      "outputs": [
        {
          "output_type": "stream",
          "name": "stdout",
          "text": [
            "2.715234730694025 SA all factors\n",
            "0.5296655356111112 SA 1\n"
          ]
        }
      ]
    },
    {
      "cell_type": "code",
      "source": [
        "col_trans = make_column_transformer(\n",
        "    (StandardScaler(), ['GDP', 'support',\n",
        "     'life_expec', 'gen']),\n",
        "    remainder='drop')\n",
        "\n",
        "pipeline = make_pipeline(\n",
        "    col_trans,\n",
        "    KNeighborsRegressor(n_neighbors= 10))\n",
        "scores = cross_val_score(\n",
        "    pipeline,\n",
        "    X=df_SA[['GDP', 'support', 'life_expec', 'gen']],\n",
        "    y = df_SA['happy'],\n",
        "    scoring= 'neg_mean_squared_error',\n",
        "    cv = 10)\n",
        "print(-scores.mean(), 'SA Best Features')"
      ],
      "metadata": {
        "colab": {
          "base_uri": "https://localhost:8080/"
        },
        "id": "WTp2W74LhyG9",
        "outputId": "8f255c6f-8797-484d-e869-2e824e62f248"
      },
      "execution_count": null,
      "outputs": [
        {
          "output_type": "stream",
          "name": "stdout",
          "text": [
            "0.5296655356111112 SA Best Features\n"
          ]
        }
      ]
    },
    {
      "cell_type": "code",
      "source": [
        "metrics = ['cosine', 'euclidean',\n",
        "           'l1', 'l2', 'manhattan']\n",
        "for metric in metrics:\n",
        "    pipeline = make_pipeline(\n",
        "      col_trans,\n",
        "      KNeighborsRegressor(n_neighbors=10, metric= metric))\n",
        "    scores = cross_val_score(\n",
        "      pipeline,\n",
        "      X=df_SA[['GDP', 'support', 'life_expec', 'gen']],\n",
        "      y = df_SA['happy'],\n",
        "      scoring= 'neg_mean_squared_error',\n",
        "      cv = 10)\n",
        "    print(metric, -scores.mean())"
      ],
      "metadata": {
        "colab": {
          "base_uri": "https://localhost:8080/"
        },
        "id": "0re2TDUZgYfA",
        "outputId": "c38e6ee3-fd1a-4860-9711-827cd93518c9"
      },
      "execution_count": null,
      "outputs": [
        {
          "output_type": "stream",
          "name": "stdout",
          "text": [
            "cosine 0.6192392815277777\n",
            "euclidean 0.5296655356111112\n",
            "l1 0.4496836148611111\n",
            "l2 0.5296655356111112\n",
            "manhattan 0.4496836148611111\n"
          ]
        }
      ]
    },
    {
      "cell_type": "code",
      "source": [
        "ks = []\n",
        "for i in range(1,30):\n",
        "    pipeline = make_pipeline(\n",
        "      col_trans,\n",
        "      KNeighborsRegressor(n_neighbors=i, metric= 'manhattan'))\n",
        "    scores = cross_val_score(\n",
        "      pipeline,\n",
        "      X=df_SA[['GDP', 'support', 'life_expec', 'gen']],\n",
        "      y = df_SA['happy'],\n",
        "      scoring= 'neg_mean_squared_error',\n",
        "      cv = 10)\n",
        "    avg = -1*(scores.mean())\n",
        "    ks.append(avg)\n",
        "    print(i, avg)\n",
        "\n",
        "line_plot = pd.Series(ks, index=range(1, 30)).plot.line()\n",
        "line_plot.set_xlabel(\"k\")\n",
        "line_plot.set_ylabel(\"Test RMSE\")"
      ],
      "metadata": {
        "colab": {
          "base_uri": "https://localhost:8080/",
          "height": 970
        },
        "id": "RIotZez9gYX4",
        "outputId": "5b164010-af0b-4e23-e0c1-054627ead0e4"
      },
      "execution_count": null,
      "outputs": [
        {
          "output_type": "stream",
          "name": "stdout",
          "text": [
            "1 0.4017660708333334\n",
            "2 0.40400788090277784\n",
            "3 0.37412642808641977\n",
            "4 0.3177887890625\n",
            "5 0.3591718377777779\n",
            "6 0.38504083422067903\n",
            "7 0.4095551447562357\n",
            "8 0.4033585368272569\n",
            "9 0.4327015293209876\n",
            "10 0.4496836148611111\n",
            "11 0.45391839602846645\n",
            "12 0.4689761907793211\n",
            "13 0.48219012903517433\n",
            "14 0.48819605410997735\n",
            "15 0.4832986715679013\n",
            "16 0.48066626102973115\n",
            "17 0.48291551560457535\n",
            "18 0.48300587458419103\n",
            "19 0.47654565593644216\n",
            "20 0.479570010434028\n",
            "21 0.48077659353426583\n",
            "22 0.4827701073174932\n",
            "23 0.47947054241755954\n",
            "24 0.47717303061824845\n",
            "25 0.4788395932288889\n",
            "26 0.4802317795549803\n",
            "27 0.48118666372313684\n",
            "28 0.48371687654478474\n",
            "29 0.49108582324778716\n"
          ]
        },
        {
          "output_type": "execute_result",
          "data": {
            "text/plain": [
              "Text(0, 0.5, 'Test RMSE')"
            ]
          },
          "metadata": {},
          "execution_count": 306
        },
        {
          "output_type": "display_data",
          "data": {
            "text/plain": [
              "<Figure size 640x480 with 1 Axes>"
            ],
            "image/png": "[encoded data removed]"
          },
          "metadata": {}
        }
      ]
    },
    {
      "cell_type": "code",
      "source": [
        "col_trans = make_column_transformer(\n",
        "    (StandardScaler(), ['GDP', 'support',\n",
        "     'life_expec', 'gen']),\n",
        "    remainder='drop')\n",
        "\n",
        "pipeline = make_pipeline(\n",
        "    col_trans,\n",
        "    KNeighborsRegressor(n_neighbors= 4, metric='manhattan'))\n",
        "scores = cross_val_score(\n",
        "    pipeline,\n",
        "    X=df_SA[['GDP', 'support', 'life_expec', 'gen']],\n",
        "    y = df_SA['happy'],\n",
        "    scoring= 'neg_mean_squared_error',\n",
        "    cv = 10)\n",
        "print(-scores.mean(), 'Optimized SA')"
      ],
      "metadata": {
        "colab": {
          "base_uri": "https://localhost:8080/"
        },
        "id": "WjYUk279gYKX",
        "outputId": "93fbbee2-3cd3-4e31-d6e7-7d6da7bc08e3"
      },
      "execution_count": null,
      "outputs": [
        {
          "output_type": "stream",
          "name": "stdout",
          "text": [
            "0.3177887890625 Optimized SA\n"
          ]
        }
      ]
    },
    {
      "cell_type": "markdown",
      "source": [
        "*Interpretion*\n",
        "---\n",
        "1. Correlation and Heatmap: Unfortunatly the correlation between the other variables and happiness are low. However the small differences in correlation do provide some help in creating the model.\n",
        "2. Feature Choice: The best model for prediction includes: GDP, support, life_expec, and generosity. This means we can best predict a countries happiness when taking into consideration economic prosperity, community, health and the kindness of others.\n",
        "3. Parameters: The metric for judging this 'manhattan' and the number of nieghbors is 4. This tells me that having a small number of data points that are close together provide the best position to predict the happiness of the country in south asia.\n",
        "4. Error: The mean error for this model is 0.31, meaning that given a countries GPD, community, health, and generosity this model could provide a predicted happiness with an error of 0.31 on a ten point scale. Considering the correlation between happiness and the other variables, this is pretty good."
      ],
      "metadata": {
        "id": "SQWZAy8KUKN5"
      }
    },
    {
      "cell_type": "markdown",
      "source": [
        "# Central and Eastern Europe"
      ],
      "metadata": {
        "id": "CbqHBDEIfhUk"
      }
    },
    {
      "cell_type": "code",
      "source": [
        "df_CEE = bare_df[df.Region == 'Central and Eastern Europe']\n",
        "corr_CEE = df_CEE.corr()\n",
        "sns.heatmap(corr_CEE)"
      ],
      "metadata": {
        "colab": {
          "base_uri": "https://localhost:8080/",
          "height": 508
        },
        "id": "8zBeDrpXhAIg",
        "outputId": "bde29e71-e271-42f5-8c3e-733a78fa640e"
      },
      "execution_count": null,
      "outputs": [
        {
          "output_type": "execute_result",
          "data": {
            "text/plain": [
              "<Axes: >"
            ]
          },
          "metadata": {},
          "execution_count": 308
        },
        {
          "output_type": "display_data",
          "data": {
            "text/plain": [
              "<Figure size 640x480 with 2 Axes>"
            ],
            "image/png": "[encoded data removed]"
          },
          "metadata": {}
        }
      ]
    },
    {
      "cell_type": "code",
      "source": [
        "col_trans = make_column_transformer(\n",
        "    (StandardScaler(), ['GDP', 'support',\n",
        "     'life_expec', 'agency', 'gen', 'corrup']),\n",
        "    remainder='drop')\n",
        "\n",
        "pipeline = make_pipeline(\n",
        "    col_trans,\n",
        "    KNeighborsRegressor(n_neighbors=10))\n",
        "\n",
        "scores = cross_val_score(\n",
        "    pipeline,\n",
        "    X=df_CEE[['GDP', 'support', 'life_expec', 'agency', 'gen', 'corrup']],\n",
        "    y = df_CEE['happy'],\n",
        "    scoring= 'neg_mean_squared_error',\n",
        "    cv=10)\n",
        "print(-scores.mean(), 'CEE all factors')\n",
        "\n",
        "col_trans = make_column_transformer(\n",
        "    (StandardScaler(), ['GDP', 'support',\n",
        "     'life_expec', 'agency', 'corrup']),\n",
        "    remainder='drop')\n",
        "\n",
        "pipeline = make_pipeline(\n",
        "    col_trans,\n",
        "    KNeighborsRegressor(n_neighbors=10))\n",
        "\n",
        "scores = cross_val_score(\n",
        "    pipeline,\n",
        "    X=df_CEE[['GDP', 'support', 'life_expec', 'agency', 'corrup']],\n",
        "    y = df_CEE['happy'],\n",
        "    scoring= 'neg_mean_squared_error',\n",
        "    cv=10)\n",
        "print(-scores.mean(), 'CEE 1')"
      ],
      "metadata": {
        "colab": {
          "base_uri": "https://localhost:8080/"
        },
        "id": "FFIAQ8l5hABs",
        "outputId": "db030fed-914e-44fe-9400-ad334581be05"
      },
      "execution_count": null,
      "outputs": [
        {
          "output_type": "stream",
          "name": "stdout",
          "text": [
            "0.18413355992142852 CEE all factors\n",
            "0.20762842255000002 CEE 1\n"
          ]
        }
      ]
    },
    {
      "cell_type": "code",
      "source": [
        "col_trans = make_column_transformer(\n",
        "    (StandardScaler(), ['GDP', 'support',\n",
        "     'life_expec', 'agency', 'gen']),\n",
        "    remainder='drop')\n",
        "\n",
        "pipeline = make_pipeline(\n",
        "    col_trans,\n",
        "    KNeighborsRegressor(n_neighbors=10))\n",
        "\n",
        "scores = cross_val_score(\n",
        "    pipeline,\n",
        "    X=df_CEE[['GDP', 'support', 'life_expec', 'agency', 'gen']],\n",
        "    y = df_CEE['happy'],\n",
        "    scoring= 'neg_mean_squared_error',\n",
        "    cv=10)\n",
        "print(-scores.mean(), 'CEE Best Features')"
      ],
      "metadata": {
        "colab": {
          "base_uri": "https://localhost:8080/"
        },
        "id": "cvv_Kcang_8a",
        "outputId": "fd4dc98c-a60d-48c0-9f99-790efdc21534"
      },
      "execution_count": null,
      "outputs": [
        {
          "output_type": "stream",
          "name": "stdout",
          "text": [
            "0.18839973741904764 CEE Best Features\n"
          ]
        }
      ]
    },
    {
      "cell_type": "code",
      "source": [
        "metrics = ['cosine', 'euclidean',\n",
        "           'l1', 'l2', 'manhattan']\n",
        "for metric in metrics:\n",
        "    pipeline = make_pipeline(\n",
        "      col_trans,\n",
        "      KNeighborsRegressor(n_neighbors=10, metric= metric))\n",
        "    scores = cross_val_score(\n",
        "      pipeline,\n",
        "      X=df_CEE[['GDP', 'support',\n",
        "       'life_expec', 'agency', 'gen', 'corrup']],\n",
        "      y = df_CEE['happy'],\n",
        "      scoring= 'neg_mean_squared_error',\n",
        "      cv = 10)\n",
        "    print(metric, -scores.mean())"
      ],
      "metadata": {
        "colab": {
          "base_uri": "https://localhost:8080/"
        },
        "id": "Cdi05b17g_2t",
        "outputId": "41fbcf3c-0588-479e-ec3e-bae3e689a81c"
      },
      "execution_count": null,
      "outputs": [
        {
          "output_type": "stream",
          "name": "stdout",
          "text": [
            "cosine 0.19981183678095232\n",
            "euclidean 0.18839973741904764\n",
            "l1 0.19958226383095237\n",
            "l2 0.18839973741904764\n",
            "manhattan 0.19958226383095237\n"
          ]
        }
      ]
    },
    {
      "cell_type": "code",
      "source": [
        "ks = []\n",
        "for i in range(1,30):\n",
        "    pipeline = make_pipeline(\n",
        "      col_trans,\n",
        "      KNeighborsRegressor(n_neighbors=i))\n",
        "    scores = cross_val_score(\n",
        "       pipeline,\n",
        "       X=df_CEE[['GDP', 'support',\n",
        "        'life_expec', 'agency', 'gen', 'corrup']],\n",
        "       y = df_CEE['happy'],\n",
        "       scoring= 'neg_mean_squared_error',\n",
        "       cv = 10)\n",
        "    avg = -1*(scores.mean())\n",
        "    ks.append(avg)\n",
        "    print(i, avg)\n",
        "\n",
        "line_plot = pd.Series(ks, index=range(1, 30)).plot.line()\n",
        "line_plot.set_xlabel(\"k\")\n",
        "line_plot.set_ylabel(\"Test RMSE\")"
      ],
      "metadata": {
        "colab": {
          "base_uri": "https://localhost:8080/",
          "height": 970
        },
        "id": "1RAbGkTIg_vZ",
        "outputId": "4fa69e93-37b1-47c4-d4b1-e2a1938b06ca"
      },
      "execution_count": null,
      "outputs": [
        {
          "output_type": "stream",
          "name": "stdout",
          "text": [
            "1 0.3122090054761905\n",
            "2 0.2686150345238095\n",
            "3 0.2485481727248678\n",
            "4 0.22389566936011907\n",
            "5 0.21948338261904765\n",
            "6 0.2140075580224868\n",
            "7 0.20727703394557823\n",
            "8 0.2068445303050595\n",
            "9 0.19912856513521457\n",
            "10 0.18839973741904764\n",
            "11 0.18878713522038565\n",
            "12 0.18430935514219576\n",
            "13 0.18486600857142857\n",
            "14 0.18443441241618075\n",
            "15 0.18237842535132273\n",
            "16 0.18092036223214286\n",
            "17 0.18104905521667491\n",
            "18 0.1796884185155791\n",
            "19 0.17987397651629072\n",
            "20 0.17962325884226193\n",
            "21 0.17900910892020305\n",
            "22 0.1796111289880953\n",
            "23 0.18191986394004864\n",
            "24 0.18147038206845229\n",
            "25 0.1802160568780951\n",
            "26 0.1803880107604254\n",
            "27 0.18057353880331817\n",
            "28 0.1788821004443026\n",
            "29 0.1785471639434346\n"
          ]
        },
        {
          "output_type": "execute_result",
          "data": {
            "text/plain": [
              "Text(0, 0.5, 'Test RMSE')"
            ]
          },
          "metadata": {},
          "execution_count": 312
        },
        {
          "output_type": "display_data",
          "data": {
            "text/plain": [
              "<Figure size 640x480 with 1 Axes>"
            ],
            "image/png": "[encoded data removed]"
          },
          "metadata": {}
        }
      ]
    },
    {
      "cell_type": "code",
      "source": [
        "col_trans = make_column_transformer(\n",
        "    (StandardScaler(), ['GDP', 'support',\n",
        "     'life_expec', 'agency', 'gen', 'corrup']),\n",
        "    remainder='drop')\n",
        "\n",
        "pipeline = make_pipeline(\n",
        "    col_trans,\n",
        "    KNeighborsRegressor(n_neighbors=13))\n",
        "\n",
        "scores = cross_val_score(\n",
        "    pipeline,\n",
        "    X=df_CEE[['GDP', 'support', 'life_expec', 'agency', 'gen', 'corrup']],\n",
        "    y = df_CEE['happy'],\n",
        "    scoring= 'neg_mean_squared_error',\n",
        "    cv=10)\n",
        "print(-scores.mean(), ' Optimized CEE')"
      ],
      "metadata": {
        "colab": {
          "base_uri": "https://localhost:8080/"
        },
        "id": "4JdwJYA7h-Np",
        "outputId": "66b1f1df-2100-453c-ea19-a2fe9626f6d4"
      },
      "execution_count": null,
      "outputs": [
        {
          "output_type": "stream",
          "name": "stdout",
          "text": [
            "0.1756005300126796  Optimized CEE\n"
          ]
        }
      ]
    },
    {
      "cell_type": "markdown",
      "source": [
        "*Interpretation*\n",
        "---\n",
        "1. Correlation and Heatmap: All variables are highly correlated to happiness other than generosity and corruption.\n",
        "2. Feature Choice: The features the provide the best predictive power is every feature. This is interesting. Every measure provided in the data set give more and more information to the model.\n",
        "3. Parameters: The standard parameter and a standard number of neighbors. This tells me the model doesn't need much help as is.\n",
        "4. Error: The mean error for this model is 0.18, meaning that given every feature of the model, this model can predict the happiness of a country within 0.18 on a ten point scale. This is the lowest error seen in any model so far."
      ],
      "metadata": {
        "id": "R4pBM0PWT9SL"
      }
    },
    {
      "cell_type": "markdown",
      "source": [
        "# Middle East and North Africa"
      ],
      "metadata": {
        "id": "y211X51KfmnQ"
      }
    },
    {
      "cell_type": "code",
      "source": [
        "df_MENA = bare_df[df.Region == 'Middle East and North Africa']\n",
        "corr_MENA = df_MENA.corr()\n",
        "sns.heatmap(corr_MENA)"
      ],
      "metadata": {
        "colab": {
          "base_uri": "https://localhost:8080/",
          "height": 508
        },
        "id": "RaxEstu7jJJR",
        "outputId": "a66a2d28-b2ff-4785-f315-b4c1de61017f"
      },
      "execution_count": null,
      "outputs": [
        {
          "output_type": "execute_result",
          "data": {
            "text/plain": [
              "<Axes: >"
            ]
          },
          "metadata": {},
          "execution_count": 314
        },
        {
          "output_type": "display_data",
          "data": {
            "text/plain": [
              "<Figure size 640x480 with 2 Axes>"
            ],
            "image/png": "[encoded data removed]"
          },
          "metadata": {}
        }
      ]
    },
    {
      "cell_type": "code",
      "source": [
        "\n",
        "col_trans = make_column_transformer(\n",
        "    (StandardScaler(), ['GDP', 'support',\n",
        "     'life_expec', 'agency', 'gen', 'corrup']),\n",
        "    remainder='drop')\n",
        "\n",
        "pipeline = make_pipeline(\n",
        "    col_trans,\n",
        "    KNeighborsRegressor(n_neighbors=10))\n",
        "\n",
        "scores = cross_val_score(\n",
        "    pipeline,\n",
        "    X=df_MENA[['GDP', 'support', 'life_expec', 'agency', 'gen', 'corrup']],\n",
        "    y = df_MENA['happy'],\n",
        "    scoring= 'neg_mean_squared_error',\n",
        "    cv=10)\n",
        "print(-scores.mean(), 'MENA all factors')\n",
        "\n",
        "col_trans = make_column_transformer(\n",
        "    (StandardScaler(), ['GDP', 'support',\n",
        "     'life_expec', 'agency']),\n",
        "    remainder='drop')\n",
        "\n",
        "pipeline = make_pipeline(\n",
        "    col_trans,\n",
        "    KNeighborsRegressor(n_neighbors=10))\n",
        "\n",
        "scores = cross_val_score(\n",
        "    pipeline,\n",
        "    X=df_MENA[['GDP', 'support', 'life_expec', 'agency']],\n",
        "    y = df_MENA['happy'],\n",
        "    scoring= 'neg_mean_squared_error',\n",
        "    cv=10)\n",
        "print(-scores.mean(), 'MENA 1')\n",
        "\n",
        "col_trans = make_column_transformer(\n",
        "    (StandardScaler(), ['GDP', 'support',\n",
        "     'life_expec']),\n",
        "    remainder='drop')\n",
        "\n",
        "pipeline = make_pipeline(\n",
        "    col_trans,\n",
        "    KNeighborsRegressor(n_neighbors=10))\n",
        "\n",
        "scores = cross_val_score(\n",
        "    pipeline,\n",
        "    X=df_MENA[['GDP', 'support', 'life_expec']],\n",
        "    y = df_MENA['happy'],\n",
        "    scoring= 'neg_mean_squared_error',\n",
        "    cv=10)\n",
        "print(-scores.mean(), 'MENA 2')\n",
        "\n",
        "col_trans = make_column_transformer(\n",
        "    (StandardScaler(), ['GDP', 'life_expec']),\n",
        "    remainder='drop')\n",
        "\n",
        "pipeline = make_pipeline(\n",
        "    col_trans,\n",
        "    KNeighborsRegressor(n_neighbors=10))\n",
        "\n",
        "scores = cross_val_score(\n",
        "    pipeline,\n",
        "    X=df_MENA[['GDP', 'life_expec']],\n",
        "    y = df_MENA['happy'],\n",
        "    scoring= 'neg_mean_squared_error',\n",
        "    cv=10)\n",
        "print(-scores.mean(), 'MENA 3')"
      ],
      "metadata": {
        "colab": {
          "base_uri": "https://localhost:8080/"
        },
        "id": "XlFNVIE-jJBs",
        "outputId": "78989587-06d3-4e52-fe32-63a8f9142451"
      },
      "execution_count": null,
      "outputs": [
        {
          "output_type": "stream",
          "name": "stdout",
          "text": [
            "0.3319312785934067 MENA all factors\n",
            "0.2988662588461538 MENA 1\n",
            "0.2395124512197803 MENA 2\n",
            "0.26892366408791213 MENA 3\n"
          ]
        }
      ]
    },
    {
      "cell_type": "code",
      "source": [
        "pipeline = make_pipeline(\n",
        "    col_trans,\n",
        "    KNeighborsRegressor(n_neighbors=10))\n",
        "scores = cross_val_score(\n",
        "    pipeline,\n",
        "    X=df_MENA[['GDP', 'support', 'life_expec']],\n",
        "    y = df_MENA['happy'],\n",
        "    scoring= 'neg_mean_squared_error',\n",
        "    cv=10)\n",
        "print(-scores.mean(), 'MENA Best Features')"
      ],
      "metadata": {
        "colab": {
          "base_uri": "https://localhost:8080/"
        },
        "id": "ld4HukoejI51",
        "outputId": "d96c3692-d41c-49d2-b800-af564ab26ef3"
      },
      "execution_count": null,
      "outputs": [
        {
          "output_type": "stream",
          "name": "stdout",
          "text": [
            "0.26892366408791213 MENA Best Features\n"
          ]
        }
      ]
    },
    {
      "cell_type": "code",
      "source": [
        "metrics = ['cosine', 'euclidean',\n",
        "           'l1', 'l2', 'manhattan']\n",
        "for metric in metrics:\n",
        "    pipeline = make_pipeline(\n",
        "      col_trans,\n",
        "      KNeighborsRegressor(n_neighbors=10, metric= metric))\n",
        "    scores = cross_val_score(\n",
        "      pipeline,\n",
        "      X=df_MENA[['GDP', 'support', 'life_expec']],\n",
        "      y = df_MENA['happy'],\n",
        "      scoring= 'neg_mean_squared_error',\n",
        "      cv = 10)\n",
        "    print(metric, -scores.mean())"
      ],
      "metadata": {
        "colab": {
          "base_uri": "https://localhost:8080/"
        },
        "id": "Yikn5UQkjIxO",
        "outputId": "9b29d58e-7ded-4400-f655-30ad79e05067"
      },
      "execution_count": null,
      "outputs": [
        {
          "output_type": "stream",
          "name": "stdout",
          "text": [
            "cosine 0.528403535554945\n",
            "euclidean 0.26892366408791213\n",
            "l1 0.25593173796153856\n",
            "l2 0.26892366408791213\n",
            "manhattan 0.25593173796153856\n"
          ]
        }
      ]
    },
    {
      "cell_type": "code",
      "source": [
        "ks = []\n",
        "for i in range(1,30):\n",
        "    pipeline = make_pipeline(\n",
        "      col_trans,\n",
        "      KNeighborsRegressor(n_neighbors=i))\n",
        "    scores = cross_val_score(\n",
        "       pipeline,\n",
        "       X=df_MENA[['GDP', 'support', 'life_expec']],\n",
        "       y = df_MENA['happy'],\n",
        "       scoring= 'neg_mean_squared_error',\n",
        "       cv = 10)\n",
        "    avg = -1*(scores.mean())\n",
        "    ks.append(avg)\n",
        "    print(i, avg)\n",
        "\n",
        "line_plot = pd.Series(ks, index=range(1, 30)).plot.line()\n",
        "line_plot.set_xlabel(\"k\")\n",
        "line_plot.set_ylabel(\"Test RMSE\")"
      ],
      "metadata": {
        "colab": {
          "base_uri": "https://localhost:8080/",
          "height": 970
        },
        "id": "owWk5Bp2jIm3",
        "outputId": "510922c2-3ab0-4800-a43e-d958449e703f"
      },
      "execution_count": null,
      "outputs": [
        {
          "output_type": "stream",
          "name": "stdout",
          "text": [
            "1 0.31285837087912094\n",
            "2 0.2792682622252748\n",
            "3 0.269210725946276\n",
            "4 0.2555871270604396\n",
            "5 0.25460993775824176\n",
            "6 0.2388704770299145\n",
            "7 0.22384163879793678\n",
            "8 0.22661410266140117\n",
            "9 0.24836324839913176\n",
            "10 0.26892366408791213\n",
            "11 0.2896602346698758\n",
            "12 0.29415139232295506\n",
            "13 0.3059553912413032\n",
            "14 0.31121936729087263\n",
            "15 0.31600045813919436\n",
            "16 0.3228515463985234\n",
            "17 0.333064960863531\n",
            "18 0.3453912112196446\n",
            "19 0.3591491781026454\n",
            "20 0.3654612816552199\n",
            "21 0.37047603118786\n",
            "22 0.37832395317750445\n",
            "23 0.38728734573838275\n",
            "24 0.39237888625515105\n",
            "25 0.39654677508923075\n",
            "26 0.400505924816308\n",
            "27 0.4047408139329807\n",
            "28 0.41391521212155197\n",
            "29 0.42610233344527054\n"
          ]
        },
        {
          "output_type": "execute_result",
          "data": {
            "text/plain": [
              "Text(0, 0.5, 'Test RMSE')"
            ]
          },
          "metadata": {},
          "execution_count": 318
        },
        {
          "output_type": "display_data",
          "data": {
            "text/plain": [
              "<Figure size 640x480 with 1 Axes>"
            ],
            "image/png": "[encoded data removed]"
          },
          "metadata": {}
        }
      ]
    },
    {
      "cell_type": "code",
      "source": [
        "col_trans = make_column_transformer(\n",
        "    (StandardScaler(), ['GDP', 'support',\n",
        "     'life_expec']),\n",
        "    remainder='drop')\n",
        "\n",
        "pipeline = make_pipeline(\n",
        "    col_trans,\n",
        "    KNeighborsRegressor(n_neighbors=8))\n",
        "\n",
        "scores = cross_val_score(\n",
        "    pipeline,\n",
        "    X=df_MENA[['GDP', 'support', 'life_expec']],\n",
        "    y = df_MENA['happy'],\n",
        "    scoring= 'neg_mean_squared_error',\n",
        "    cv=10)\n",
        "print(-scores.mean(), 'Optimized MENA')"
      ],
      "metadata": {
        "colab": {
          "base_uri": "https://localhost:8080/"
        },
        "id": "vGq7pl0LjIfC",
        "outputId": "ab093f7e-9f6b-426b-b139-cc97548fe5f4"
      },
      "execution_count": null,
      "outputs": [
        {
          "output_type": "stream",
          "name": "stdout",
          "text": [
            "0.20899988517342033 Optimized MENA\n"
          ]
        }
      ]
    },
    {
      "cell_type": "markdown",
      "source": [
        "*Interpretation*\n",
        "---\n",
        "1. Correlation and Heatmap: There is a high correlation between happiness and all other variables in the model.\n",
        "2. Feature Choice: However, The best model for prediction includes: GDP, support, and life_expec. This means we can best predict a countries happiness when taking into consideration economic prosperity, community, and health.\n",
        "3. Parameters: The standard parameter and a standard number of neighbors. This tells me the model doesn't need much help as is.\n",
        "4. Error: The mean error for this model is 0.21, meaning that given a countries GPD, community, health, and agency this model could provide a predicted happiness with an error of 0.21 on a ten point scale."
      ],
      "metadata": {
        "id": "0uirRRqrURtu"
      }
    },
    {
      "cell_type": "markdown",
      "source": [
        "# Sub-Saharan Africa"
      ],
      "metadata": {
        "id": "vtKttgesfr2o"
      }
    },
    {
      "cell_type": "code",
      "source": [
        "df_SSA = bare_df[df.Region == 'Sub-Saharan Africa']\n",
        "corr_SSA = df_SSA.corr()\n",
        "sns.heatmap(corr_SSA)"
      ],
      "metadata": {
        "colab": {
          "base_uri": "https://localhost:8080/",
          "height": 508
        },
        "id": "KjCJ5ATCjnt9",
        "outputId": "a58bdbff-5075-42df-b87d-567d2018cc54"
      },
      "execution_count": null,
      "outputs": [
        {
          "output_type": "execute_result",
          "data": {
            "text/plain": [
              "<Axes: >"
            ]
          },
          "metadata": {},
          "execution_count": 320
        },
        {
          "output_type": "display_data",
          "data": {
            "text/plain": [
              "<Figure size 640x480 with 2 Axes>"
            ],
            "image/png": "[encoded data removed]"
          },
          "metadata": {}
        }
      ]
    },
    {
      "cell_type": "code",
      "source": [
        "col_trans = make_column_transformer(\n",
        "    (StandardScaler(), ['GDP', 'support',\n",
        "     'life_expec', 'agency', 'gen', 'corrup']),\n",
        "    remainder='drop')\n",
        "\n",
        "pipeline = make_pipeline(\n",
        "    col_trans,\n",
        "    KNeighborsRegressor(n_neighbors=10))\n",
        "\n",
        "scores = cross_val_score(\n",
        "    pipeline,\n",
        "    X=df_SSA[['GDP', 'support', 'life_expec', 'agency', 'gen', 'corrup']],\n",
        "    y = df_SSA['happy'],\n",
        "    scoring= 'neg_mean_squared_error',\n",
        "    cv=10)\n",
        "print(-scores.mean(), 'SSA all factors')\n",
        "\n",
        "col_trans = make_column_transformer(\n",
        "    (StandardScaler(), ['GDP', 'support',\n",
        "     'life_expec', 'agency', 'corrup']),\n",
        "    remainder='drop')\n",
        "\n",
        "pipeline = make_pipeline(\n",
        "    col_trans,\n",
        "    KNeighborsRegressor(n_neighbors=10))\n",
        "\n",
        "scores = cross_val_score(\n",
        "    pipeline,\n",
        "    X=df_SSA[['GDP', 'support', 'life_expec', 'agency', 'corrup']],\n",
        "    y = df_SSA['happy'],\n",
        "    scoring= 'neg_mean_squared_error',\n",
        "    cv=10)\n",
        "print(-scores.mean(), 'SSA 1')\n",
        "\n",
        "col_trans = make_column_transformer(\n",
        "    (StandardScaler(), ['GDP', 'support', 'agency', 'gen']),\n",
        "    remainder='drop')\n",
        "\n",
        "pipeline = make_pipeline(\n",
        "    col_trans,\n",
        "    KNeighborsRegressor(n_neighbors=10))\n",
        "\n",
        "scores = cross_val_score(\n",
        "    pipeline,\n",
        "    X=df_SSA[['GDP', 'support', 'agency', 'gen']],\n",
        "    y = df_SSA['happy'],\n",
        "    scoring= 'neg_mean_squared_error',\n",
        "    cv=10)\n",
        "print(-scores.mean(), 'SSA 2')\n",
        "\n",
        "col_trans = make_column_transformer(\n",
        "    (StandardScaler(), ['GDP', 'support', 'gen']),\n",
        "    remainder='drop')\n",
        "\n",
        "pipeline = make_pipeline(\n",
        "    col_trans,\n",
        "    KNeighborsRegressor(n_neighbors=10))\n",
        "\n",
        "scores = cross_val_score(\n",
        "    pipeline,\n",
        "    X=df_SSA[['GDP', 'support', 'gen']],\n",
        "    y = df_SSA['happy'],\n",
        "    scoring= 'neg_mean_squared_error',\n",
        "    cv=10)\n",
        "print(-scores.mean(), 'SSA 3')"
      ],
      "metadata": {
        "colab": {
          "base_uri": "https://localhost:8080/"
        },
        "id": "PLbV8iPjjnnI",
        "outputId": "28b7a0fd-8253-4268-fb54-15a50fb0cbfd"
      },
      "execution_count": null,
      "outputs": [
        {
          "output_type": "stream",
          "name": "stdout",
          "text": [
            "0.3705470268689023 SSA all factors\n",
            "0.38343952806036585 SSA 1\n",
            "0.3646423619969512 SSA 2\n",
            "0.36336758335304875 SSA 3\n"
          ]
        }
      ]
    },
    {
      "cell_type": "code",
      "source": [
        "col_trans = make_column_transformer(\n",
        "    (StandardScaler(), ['GDP', 'support', 'gen']),\n",
        "    remainder='drop')\n",
        "\n",
        "pipeline = make_pipeline(\n",
        "    col_trans,\n",
        "    KNeighborsRegressor(n_neighbors=10))\n",
        "\n",
        "scores = cross_val_score(\n",
        "    pipeline,\n",
        "    X=df_SSA[['GDP', 'support', 'gen']],\n",
        "    y = df_SSA['happy'],\n",
        "    scoring= 'neg_mean_squared_error',\n",
        "    cv=10)\n",
        "print(-scores.mean(), 'SSA Best Features')"
      ],
      "metadata": {
        "colab": {
          "base_uri": "https://localhost:8080/"
        },
        "id": "gQcfvFrpjniH",
        "outputId": "c3602f77-3b05-4997-b140-0c43da4698e6"
      },
      "execution_count": null,
      "outputs": [
        {
          "output_type": "stream",
          "name": "stdout",
          "text": [
            "0.36336758335304875 SSA Best Features\n"
          ]
        }
      ]
    },
    {
      "cell_type": "code",
      "source": [
        "metrics = ['cosine', 'euclidean',\n",
        "           'l1', 'l2', 'manhattan']\n",
        "for metric in metrics:\n",
        "    pipeline = make_pipeline(\n",
        "      col_trans,\n",
        "      KNeighborsRegressor(n_neighbors=10, metric= metric))\n",
        "    scores = cross_val_score(\n",
        "     pipeline,\n",
        "     X=df_SSA[['GDP', 'support', 'gen']],\n",
        "     y = df_SSA['happy'],\n",
        "     scoring= 'neg_mean_squared_error',\n",
        "     cv=10)\n",
        "    print(metric, -scores.mean())"
      ],
      "metadata": {
        "colab": {
          "base_uri": "https://localhost:8080/"
        },
        "id": "dYNrlCsIjnds",
        "outputId": "a1b4e2dd-12bf-4538-91e7-7e1f4d06eda6"
      },
      "execution_count": null,
      "outputs": [
        {
          "output_type": "stream",
          "name": "stdout",
          "text": [
            "cosine 0.3524749026719512\n",
            "euclidean 0.36336758335304875\n",
            "l1 0.362320570325\n",
            "l2 0.36336758335304875\n",
            "manhattan 0.362320570325\n"
          ]
        }
      ]
    },
    {
      "cell_type": "code",
      "source": [
        "ks = []\n",
        "for i in range(1,100):\n",
        "    pipeline = make_pipeline(\n",
        "      col_trans,\n",
        "      KNeighborsRegressor(n_neighbors=i, metric= 'cosine'))\n",
        "    scores = cross_val_score(\n",
        "       pipeline,\n",
        "       X=df_SSA[['GDP', 'support', 'gen']],\n",
        "       y = df_SSA['happy'],\n",
        "       scoring= 'neg_mean_squared_error',\n",
        "       cv=10)\n",
        "    avg = -1*(scores.mean())\n",
        "    ks.append(avg)\n",
        "    print(i, avg)\n",
        "\n",
        "line_plot = pd.Series(ks, index=range(1, 100)).plot.line()\n",
        "line_plot.set_xlabel(\"k\")\n",
        "line_plot.set_ylabel(\"Test RMSE\")"
      ],
      "metadata": {
        "colab": {
          "base_uri": "https://localhost:8080/",
          "height": 1000
        },
        "id": "Rh1PUxMhjnYy",
        "outputId": "aaaa1069-b761-4461-b18e-b9e416c98a14"
      },
      "execution_count": null,
      "outputs": [
        {
          "output_type": "stream",
          "name": "stdout",
          "text": [
            "1 0.6096704193292682\n",
            "2 0.48447471121951213\n",
            "3 0.46141687325203246\n",
            "4 0.4368707133003048\n",
            "5 0.42298115523414637\n",
            "6 0.4026577846527778\n",
            "7 0.38695416456819315\n",
            "8 0.36517213103277435\n",
            "9 0.35775453242923816\n",
            "10 0.3524749026719512\n",
            "11 0.3476221903749244\n",
            "12 0.3425251039176829\n",
            "13 0.34168101647604276\n",
            "14 0.3401451040760328\n",
            "15 0.34048607747235776\n",
            "16 0.3380521534322599\n",
            "17 0.3363287439623597\n",
            "18 0.3364582887281692\n",
            "19 0.3376669407578879\n",
            "20 0.33709726993551825\n",
            "21 0.3370210288518334\n",
            "22 0.33725555560446485\n",
            "23 0.33646148325084146\n",
            "24 0.3384646401416412\n",
            "25 0.3390642728985366\n",
            "26 0.33920082011067615\n",
            "27 0.33753206902045896\n",
            "28 0.3387271478084557\n",
            "29 0.3381865926630608\n",
            "30 0.3371042288631435\n",
            "31 0.33711689436993975\n",
            "32 0.33729281684647716\n",
            "33 0.3374819803889224\n",
            "34 0.33797030383887877\n",
            "35 0.33833380912772515\n",
            "36 0.33736068943494046\n",
            "37 0.33678175788977166\n",
            "38 0.3372607670346598\n",
            "39 0.33800346427049754\n",
            "40 0.33833229451326213\n",
            "41 0.338539002946961\n",
            "42 0.33935811882825895\n",
            "43 0.3406486934175032\n",
            "44 0.34057812042134905\n",
            "45 0.34096900424595\n",
            "46 0.3415995137566278\n",
            "47 0.3401654809045038\n",
            "48 0.3401878405404439\n",
            "49 0.34161984739826384\n",
            "50 0.34232290239175606\n",
            "51 0.34349199678964937\n",
            "52 0.3433006777490438\n",
            "53 0.34299104473482445\n",
            "54 0.3428462099823304\n",
            "55 0.3438620462749647\n",
            "56 0.3441375071092777\n",
            "57 0.3446495939309281\n",
            "58 0.3453845237711892\n",
            "59 0.3464170461696071\n",
            "60 0.34808773275768967\n",
            "61 0.3485600210599694\n",
            "62 0.3480084251759632\n",
            "63 0.3487080009828918\n",
            "64 0.34928994819949266\n",
            "65 0.35027271783958724\n",
            "66 0.3498658116850742\n",
            "67 0.3493671526799521\n",
            "68 0.35053800927300033\n",
            "69 0.35067713874084927\n",
            "70 0.3504630360548532\n",
            "71 0.35019412815379736\n",
            "72 0.3497306207910714\n",
            "73 0.35022986776327414\n",
            "74 0.3497527963165654\n",
            "75 0.35001878784071544\n",
            "76 0.3500803037893132\n",
            "77 0.35087864811248143\n",
            "78 0.3507965444098275\n",
            "79 0.35046064765493534\n",
            "80 0.3508339193851657\n",
            "81 0.3507195038317701\n",
            "82 0.35073470050635874\n",
            "83 0.35051075716748864\n",
            "84 0.35044140039907223\n",
            "85 0.3506567183616677\n",
            "86 0.3508584834519483\n",
            "87 0.3508765681345202\n",
            "88 0.3514687054734901\n",
            "89 0.35100290658614336\n",
            "90 0.35125735329395513\n",
            "91 0.35162568939958067\n",
            "92 0.3516923369544902\n",
            "93 0.352303008822506\n",
            "94 0.3524257113059173\n",
            "95 0.35224331054180136\n",
            "96 0.352914543378013\n",
            "97 0.3528611311275401\n",
            "98 0.35304097895114206\n",
            "99 0.35379534394933565\n"
          ]
        },
        {
          "output_type": "execute_result",
          "data": {
            "text/plain": [
              "Text(0, 0.5, 'Test RMSE')"
            ]
          },
          "metadata": {},
          "execution_count": 324
        },
        {
          "output_type": "display_data",
          "data": {
            "text/plain": [
              "<Figure size 640x480 with 1 Axes>"
            ],
            "image/png": "[encoded data removed]"
          },
          "metadata": {}
        }
      ]
    },
    {
      "cell_type": "code",
      "source": [
        "col_trans = make_column_transformer(\n",
        "    (StandardScaler(), ['GDP', 'support', 'gen']),\n",
        "    remainder='drop')\n",
        "\n",
        "pipeline = make_pipeline(\n",
        "    col_trans,\n",
        "    KNeighborsRegressor(n_neighbors=17 , metric= 'cosine'))\n",
        "\n",
        "scores = cross_val_score(\n",
        "    pipeline,\n",
        "    X=df_SSA[['GDP', 'support', 'gen']],\n",
        "    y = df_SSA['happy'],\n",
        "    scoring= 'neg_mean_squared_error',\n",
        "    cv=10)\n",
        "print(-scores.mean(), 'Optimized SSA')"
      ],
      "metadata": {
        "colab": {
          "base_uri": "https://localhost:8080/"
        },
        "id": "BOsiXxSJjnS9",
        "outputId": "3ad8752c-8c34-44b8-9798-6979c4922527"
      },
      "execution_count": null,
      "outputs": [
        {
          "output_type": "stream",
          "name": "stdout",
          "text": [
            "0.3363287439623597 Optimized SSA\n"
          ]
        }
      ]
    },
    {
      "cell_type": "markdown",
      "source": [
        "*Interpretation*\n",
        "---\n",
        "1. Correlation and Heatmap: Across all the variables the correlation is middling at best. There is not much explaination from the variables provided.\n",
        "2. Feature Choice:  The best model for prediction includes: GDP, support, and generosity. This means we can best predict a countries happiness when taking into consideration economic prosperity, community, and the kindness of the others.\n",
        "3. Parameters: The best metric being cosine means that the different countries in Sub-Saharan Africa may be far from each other on the plan but they are best examined from the origin.\n",
        "4. Error: The mean error for this model is 0.33, which is the highest error we've seen thus far. This means that while the model is decent at predicting happiness, the variables provided are not the best to explain happiness is Sub-Saharan Africa.  "
      ],
      "metadata": {
        "id": "LvAUUJo3UbUa"
      }
    },
    {
      "cell_type": "markdown",
      "source": [
        "# Latin America and Caribbean"
      ],
      "metadata": {
        "id": "YJiMtHb5fyjx"
      }
    },
    {
      "cell_type": "code",
      "source": [
        "df_LAC = bare_df[df.Region == 'Latin America and Caribbean']\n",
        "corr_LAC = df_LAC.corr()\n",
        "sns.heatmap(corr_LAC)"
      ],
      "metadata": {
        "colab": {
          "base_uri": "https://localhost:8080/",
          "height": 508
        },
        "id": "QAMIKW8wkVyN",
        "outputId": "c8b078bb-02fa-4b32-b421-84aaf33de1f0"
      },
      "execution_count": null,
      "outputs": [
        {
          "output_type": "execute_result",
          "data": {
            "text/plain": [
              "<Axes: >"
            ]
          },
          "metadata": {},
          "execution_count": 326
        },
        {
          "output_type": "display_data",
          "data": {
            "text/plain": [
              "<Figure size 640x480 with 2 Axes>"
            ],
            "image/png": "[encoded data removed]"
          },
          "metadata": {}
        }
      ]
    },
    {
      "cell_type": "code",
      "source": [
        "col_trans = make_column_transformer(\n",
        "    (StandardScaler(), ['GDP', 'support',\n",
        "     'life_expec', 'agency', 'gen', 'corrup']),\n",
        "    remainder='drop')\n",
        "\n",
        "pipeline = make_pipeline(\n",
        "    col_trans,\n",
        "    KNeighborsRegressor(n_neighbors=10))\n",
        "\n",
        "scores = cross_val_score(\n",
        "    pipeline,\n",
        "    X=df_LAC[['GDP', 'support', 'life_expec', 'agency', 'gen', 'corrup']],\n",
        "    y = df_LAC['happy'],\n",
        "    scoring= 'neg_mean_squared_error',\n",
        "    cv=10)\n",
        "print(-scores.mean(), 'LAC all factors')\n",
        "\n",
        "col_trans = make_column_transformer(\n",
        "    (StandardScaler(), ['GDP', 'support',\n",
        "     'life_expec', 'agency', 'gen']),\n",
        "    remainder='drop')\n",
        "\n",
        "pipeline = make_pipeline(\n",
        "    col_trans,\n",
        "    KNeighborsRegressor(n_neighbors=10))\n",
        "\n",
        "scores = cross_val_score(\n",
        "    pipeline,\n",
        "    X=df_LAC[['GDP', 'support', 'life_expec', 'agency', 'gen']],\n",
        "    y = df_LAC['happy'],\n",
        "    scoring= 'neg_mean_squared_error',\n",
        "    cv=10)\n",
        "print(-scores.mean(), 'LAC 1')\n",
        "\n",
        "col_trans = make_column_transformer(\n",
        "    (StandardScaler(), ['GDP', 'support',\n",
        "     'life_expec', 'agency']),\n",
        "    remainder='drop')\n",
        "\n",
        "pipeline = make_pipeline(\n",
        "    col_trans,\n",
        "    KNeighborsRegressor(n_neighbors=10))\n",
        "\n",
        "scores = cross_val_score(\n",
        "    pipeline,\n",
        "    X=df_LAC[['GDP', 'support', 'life_expec', 'agency']],\n",
        "    y = df_LAC['happy'],\n",
        "    scoring= 'neg_mean_squared_error',\n",
        "    cv=10)\n",
        "print(-scores.mean(), 'LAC 2')\n",
        "\n",
        "col_trans = make_column_transformer(\n",
        "    (StandardScaler(), ['GDP', 'support',\n",
        "     'life_expec']),\n",
        "    remainder='drop')\n",
        "\n",
        "pipeline = make_pipeline(\n",
        "    col_trans,\n",
        "    KNeighborsRegressor(n_neighbors=10))\n",
        "\n",
        "scores = cross_val_score(\n",
        "    pipeline,\n",
        "    X=df_LAC[['GDP', 'support', 'life_expec']],\n",
        "    y = df_LAC['happy'],\n",
        "    scoring= 'neg_mean_squared_error',\n",
        "    cv=10)\n",
        "print(-scores.mean(), 'LAC 3')\n",
        "\n",
        "col_trans = make_column_transformer(\n",
        "    (StandardScaler(), ['GDP',\n",
        "     'life_expec', 'agency']),\n",
        "    remainder='drop')\n",
        "\n",
        "pipeline = make_pipeline(\n",
        "    col_trans,\n",
        "    KNeighborsRegressor(n_neighbors=10))\n",
        "\n",
        "scores = cross_val_score(\n",
        "    pipeline,\n",
        "    X=df_LAC[['GDP', 'life_expec', 'agency']],\n",
        "    y = df_LAC['happy'],\n",
        "    scoring= 'neg_mean_squared_error',\n",
        "    cv=10)\n",
        "print(-scores.mean(), 'LAC 4')\n",
        "\n",
        "col_trans = make_column_transformer(\n",
        "    (StandardScaler(), ['GDP', 'agency']),\n",
        "    remainder='drop')\n",
        "\n",
        "pipeline = make_pipeline(\n",
        "    col_trans,\n",
        "    KNeighborsRegressor(n_neighbors=10))\n",
        "\n",
        "scores = cross_val_score(\n",
        "    pipeline,\n",
        "    X=df_LAC[['GDP', 'agency']],\n",
        "    y = df_LAC['happy'],\n",
        "    scoring= 'neg_mean_squared_error',\n",
        "    cv=10)\n",
        "print(-scores.mean(), 'LAC 5')"
      ],
      "metadata": {
        "colab": {
          "base_uri": "https://localhost:8080/"
        },
        "id": "qd3KueJekVtB",
        "outputId": "a46a7f87-a8a9-42c0-d0d2-146106a66398"
      },
      "execution_count": null,
      "outputs": [
        {
          "output_type": "stream",
          "name": "stdout",
          "text": [
            "0.48508958228703714 LAC all factors\n",
            "0.4770577083121692 LAC 1\n",
            "0.4511627200833333 LAC 2\n",
            "0.46396542941137564 LAC 3\n",
            "0.4422763684497354 LAC 4\n",
            "0.44302252878042336 LAC 5\n"
          ]
        }
      ]
    },
    {
      "cell_type": "code",
      "source": [
        "col_trans = make_column_transformer(\n",
        "    (StandardScaler(), ['GDP',\n",
        "     'life_expec', 'agency']),\n",
        "    remainder='drop')\n",
        "\n",
        "pipeline = make_pipeline(\n",
        "    col_trans,\n",
        "    KNeighborsRegressor(n_neighbors=10))\n",
        "\n",
        "scores = cross_val_score(\n",
        "    pipeline,\n",
        "    X=df_LAC[['GDP', 'life_expec', 'agency']],\n",
        "    y = df_LAC['happy'],\n",
        "    scoring= 'neg_mean_squared_error',\n",
        "    cv=10)\n",
        "print(-scores.mean(), 'LAC Best Features')"
      ],
      "metadata": {
        "colab": {
          "base_uri": "https://localhost:8080/"
        },
        "id": "tvTwC1nLkVn2",
        "outputId": "f8ea17d6-3581-4bcd-a3b1-7188d33d18a4"
      },
      "execution_count": null,
      "outputs": [
        {
          "output_type": "stream",
          "name": "stdout",
          "text": [
            "0.4422763684497354 LAC Best Features\n"
          ]
        }
      ]
    },
    {
      "cell_type": "code",
      "source": [
        "metrics = ['cosine', 'euclidean',\n",
        "           'l1', 'l2', 'manhattan']\n",
        "for metric in metrics:\n",
        "    pipeline = make_pipeline(\n",
        "      col_trans,\n",
        "      KNeighborsRegressor(n_neighbors=10, metric= metric))\n",
        "    scores = cross_val_score(\n",
        "     pipeline,\n",
        "     X=df_LAC[['GDP', 'life_expec', 'agency']],\n",
        "     y = df_LAC['happy'],\n",
        "     scoring= 'neg_mean_squared_error',\n",
        "     cv=10)\n",
        "    print(metric, -scores.mean())"
      ],
      "metadata": {
        "colab": {
          "base_uri": "https://localhost:8080/"
        },
        "id": "3nBV891NkVi2",
        "outputId": "d95acd5d-b4d6-4469-fc38-dc0c0a173a22"
      },
      "execution_count": null,
      "outputs": [
        {
          "output_type": "stream",
          "name": "stdout",
          "text": [
            "cosine 0.5341174238306878\n",
            "euclidean 0.4422763684497354\n",
            "l1 0.41410826254497357\n",
            "l2 0.4422763684497354\n",
            "manhattan 0.41410826254497357\n"
          ]
        }
      ]
    },
    {
      "cell_type": "code",
      "source": [
        "ks = []\n",
        "for i in range(1,30):\n",
        "    pipeline = make_pipeline(\n",
        "      col_trans,\n",
        "      KNeighborsRegressor(n_neighbors=i, metric= 'manhattan'))\n",
        "    scores = cross_val_score(\n",
        "     pipeline,\n",
        "     X=df_LAC[['GDP', 'life_expec', 'agency']],\n",
        "     y = df_LAC['happy'],\n",
        "     scoring= 'neg_mean_squared_error',\n",
        "     cv=10)\n",
        "    avg = -1*(scores.mean())\n",
        "    ks.append(avg)\n",
        "    print(i, avg)\n",
        "\n",
        "line_plot = pd.Series(ks, index=range(1, 30)).plot.line()\n",
        "line_plot.set_xlabel(\"k\")\n",
        "line_plot.set_ylabel(\"Test RMSE\")"
      ],
      "metadata": {
        "colab": {
          "base_uri": "https://localhost:8080/",
          "height": 970
        },
        "id": "yZuaB_uSkVdk",
        "outputId": "20b9907c-8b61-4e94-f9ee-7bc5bff1531f"
      },
      "execution_count": null,
      "outputs": [
        {
          "output_type": "stream",
          "name": "stdout",
          "text": [
            "1 0.6934673203703704\n",
            "2 0.5400264354166666\n",
            "3 0.5323155155202821\n",
            "4 0.48941552849702374\n",
            "5 0.4386433773121693\n",
            "6 0.4367306826829805\n",
            "7 0.4300661971601338\n",
            "8 0.41445348999669307\n",
            "9 0.41184460480599644\n",
            "10 0.41410826254497357\n",
            "11 0.4074011839695658\n",
            "12 0.40519506865446797\n",
            "13 0.4157597465984157\n",
            "14 0.4132968888308498\n",
            "15 0.4182684523398\n",
            "16 0.42145706529999594\n",
            "17 0.4213015035654785\n",
            "18 0.4184898414360016\n",
            "19 0.4238052211336088\n",
            "20 0.42769248535085963\n",
            "21 0.43489877058303017\n",
            "22 0.4335296009915167\n",
            "23 0.43613526391164303\n",
            "24 0.43839756712342925\n",
            "25 0.4355171294641271\n",
            "26 0.437316445762304\n",
            "27 0.43331378097633194\n",
            "28 0.4296887195556297\n",
            "29 0.43127509796680075\n"
          ]
        },
        {
          "output_type": "execute_result",
          "data": {
            "text/plain": [
              "Text(0, 0.5, 'Test RMSE')"
            ]
          },
          "metadata": {},
          "execution_count": 330
        },
        {
          "output_type": "display_data",
          "data": {
            "text/plain": [
              "<Figure size 640x480 with 1 Axes>"
            ],
            "image/png": "[encoded data removed]"
          },
          "metadata": {}
        }
      ]
    },
    {
      "cell_type": "code",
      "source": [
        "col_trans = make_column_transformer(\n",
        "    (StandardScaler(), ['GDP',\n",
        "     'life_expec', 'agency']),\n",
        "    remainder='drop')\n",
        "\n",
        "pipeline = make_pipeline(\n",
        "    col_trans,\n",
        "    KNeighborsRegressor(n_neighbors=12, metric= 'manhattan'))\n",
        "\n",
        "scores = cross_val_score(\n",
        "    pipeline,\n",
        "    X=df_LAC[['GDP', 'life_expec', 'agency']],\n",
        "    y = df_LAC['happy'],\n",
        "    scoring= 'neg_mean_squared_error',\n",
        "    cv=10)\n",
        "print(-scores.mean(), 'Optimized LAC')"
      ],
      "metadata": {
        "colab": {
          "base_uri": "https://localhost:8080/"
        },
        "id": "TixwmxFSkVYx",
        "outputId": "9c7431f2-93af-4702-e83c-ff2a93b7f989"
      },
      "execution_count": null,
      "outputs": [
        {
          "output_type": "stream",
          "name": "stdout",
          "text": [
            "0.40519506865446797 Optimized LAC\n"
          ]
        }
      ]
    },
    {
      "cell_type": "markdown",
      "source": [
        "*Interpretation*\n",
        "---\n",
        "1. Correlation and Heatmap: There is a high correlation between happiness and all other variables in the model, except for corruption, meaning the perception of corruption in a country has no effect on happiness of the people.\n",
        "2. Feature Choice: However, The best model for prediction includes: GDP life_expec, and agency. This means we can best predict a countries happiness when taking into consideration economic prosperity, health and freedom to make choices.\n",
        "3. Parameters: The metric to best predict happiness is 'manhattan' which means that nearby neighbors are best at helping predict happiness.\n",
        "4. Error: The mean error for this model is 0.4. This is higher than any other model we've seen. This means that the variables we are using to evalutate are not the best aspects of a country to examine."
      ],
      "metadata": {
        "id": "IYc48je2UhCe"
      }
    },
    {
      "cell_type": "markdown",
      "source": [
        "# Commonwealth of Independant States"
      ],
      "metadata": {
        "id": "w8AfjY6jf841"
      }
    },
    {
      "cell_type": "code",
      "source": [
        "df_CIS = bare_df[df.Region == 'Commonwealth of Independent States']\n",
        "corr_CIS = df_CIS.corr()\n",
        "sns.heatmap(corr_CIS)"
      ],
      "metadata": {
        "colab": {
          "base_uri": "https://localhost:8080/",
          "height": 508
        },
        "id": "DO_65FNgkXJl",
        "outputId": "cda30bd4-6ca4-4faa-ee37-0ab903d27909"
      },
      "execution_count": null,
      "outputs": [
        {
          "output_type": "execute_result",
          "data": {
            "text/plain": [
              "<Axes: >"
            ]
          },
          "metadata": {},
          "execution_count": 332
        },
        {
          "output_type": "display_data",
          "data": {
            "text/plain": [
              "<Figure size 640x480 with 2 Axes>"
            ],
            "image/png": "[encoded data removed]"
          },
          "metadata": {}
        }
      ]
    },
    {
      "cell_type": "code",
      "source": [
        "\n",
        "col_trans = make_column_transformer(\n",
        "    (StandardScaler(), ['GDP', 'support',\n",
        "     'life_expec', 'agency', 'gen', 'corrup']),\n",
        "    remainder='drop')\n",
        "\n",
        "pipeline = make_pipeline(\n",
        "    col_trans,\n",
        "    KNeighborsRegressor(n_neighbors=10))\n",
        "\n",
        "scores = cross_val_score(\n",
        "    pipeline,\n",
        "    X=df_CIS[['GDP', 'support', 'life_expec', 'agency', 'gen', 'corrup']],\n",
        "    y = df_CIS['happy'],\n",
        "    scoring= 'neg_mean_squared_error',\n",
        "    cv=10)\n",
        "print(-scores.mean(), 'CIS all factors')\n",
        "\n",
        "col_trans = make_column_transformer(\n",
        "    (StandardScaler(), ['GDP', 'support',\n",
        "     'life_expec', 'agency', 'gen']),\n",
        "    remainder='drop')\n",
        "\n",
        "pipeline = make_pipeline(\n",
        "    col_trans,\n",
        "    KNeighborsRegressor(n_neighbors=10))\n",
        "\n",
        "scores = cross_val_score(\n",
        "    pipeline,\n",
        "    X=df_CIS[['GDP', 'support', 'life_expec', 'agency', 'gen']],\n",
        "    y = df_CIS['happy'],\n",
        "    scoring= 'neg_mean_squared_error',\n",
        "    cv=10)\n",
        "print(-scores.mean(), 'CIS 1')\n",
        "\n",
        "col_trans = make_column_transformer(\n",
        "    (StandardScaler(), ['GDP', 'support',\n",
        "     'life_expec', 'agency']),\n",
        "    remainder='drop')\n",
        "\n",
        "pipeline = make_pipeline(\n",
        "    col_trans,\n",
        "    KNeighborsRegressor(n_neighbors=10))\n",
        "\n",
        "scores = cross_val_score(\n",
        "    pipeline,\n",
        "    X=df_CIS[['GDP', 'support', 'life_expec', 'agency']],\n",
        "    y = df_CIS['happy'],\n",
        "    scoring= 'neg_mean_squared_error',\n",
        "    cv=10)\n",
        "print(-scores.mean(), 'CIS 2')\n",
        "\n",
        "col_trans = make_column_transformer(\n",
        "    (StandardScaler(), ['GDP', 'support','agency']),\n",
        "    remainder='drop')\n",
        "\n",
        "pipeline = make_pipeline(\n",
        "    col_trans,\n",
        "    KNeighborsRegressor(n_neighbors=10))\n",
        "\n",
        "scores = cross_val_score(\n",
        "    pipeline,\n",
        "    X=df_CIS[['GDP', 'support', 'agency']],\n",
        "    y = df_CIS['happy'],\n",
        "    scoring= 'neg_mean_squared_error',\n",
        "    cv=10)\n",
        "print(-scores.mean(), 'CIS 3')"
      ],
      "metadata": {
        "colab": {
          "base_uri": "https://localhost:8080/"
        },
        "id": "dwz7rFLpkXEx",
        "outputId": "bb268183-e1c5-4d58-ea4d-baed1ad17466"
      },
      "execution_count": null,
      "outputs": [
        {
          "output_type": "stream",
          "name": "stdout",
          "text": [
            "0.24158984915416676 CIS all factors\n",
            "0.21928730369583338 CIS 1\n",
            "0.19498050987500007 CIS 2\n",
            "0.1884619103208333 CIS 3\n"
          ]
        }
      ]
    },
    {
      "cell_type": "code",
      "source": [
        "col_trans = make_column_transformer(\n",
        "    (StandardScaler(), ['GDP', 'support','agency']),\n",
        "    remainder='drop')\n",
        "\n",
        "pipeline = make_pipeline(\n",
        "    col_trans,\n",
        "    KNeighborsRegressor(n_neighbors=10))\n",
        "\n",
        "scores = cross_val_score(\n",
        "    pipeline,\n",
        "    X=df_CIS[['GDP', 'support', 'agency']],\n",
        "    y = df_CIS['happy'],\n",
        "    scoring= 'neg_mean_squared_error',\n",
        "    cv=10)\n",
        "print(-scores.mean(), 'CIS Best Features')"
      ],
      "metadata": {
        "colab": {
          "base_uri": "https://localhost:8080/"
        },
        "id": "nuVN1nEJkW_1",
        "outputId": "46933e3a-4cab-4a0b-f661-9943125790aa"
      },
      "execution_count": null,
      "outputs": [
        {
          "output_type": "stream",
          "name": "stdout",
          "text": [
            "0.1884619103208333 CIS Best Features\n"
          ]
        }
      ]
    },
    {
      "cell_type": "code",
      "source": [
        "metrics = ['cosine', 'euclidean',\n",
        "           'l1', 'l2', 'manhattan']\n",
        "for metric in metrics:\n",
        "    pipeline = make_pipeline(\n",
        "      col_trans,\n",
        "      KNeighborsRegressor(n_neighbors=10, metric= metric))\n",
        "    scores = cross_val_score(\n",
        "    pipeline,\n",
        "    X=df_CIS[['GDP', 'support', 'agency']],\n",
        "    y = df_CIS['happy'],\n",
        "    scoring= 'neg_mean_squared_error',\n",
        "    cv=10)\n",
        "    print(metric, -scores.mean())"
      ],
      "metadata": {
        "colab": {
          "base_uri": "https://localhost:8080/"
        },
        "id": "Rt1ZGZgokW7C",
        "outputId": "c6fd694e-8632-4178-a080-91763b9bd0dd"
      },
      "execution_count": null,
      "outputs": [
        {
          "output_type": "stream",
          "name": "stdout",
          "text": [
            "cosine 0.23840233519583345\n",
            "euclidean 0.1884619103208333\n",
            "l1 0.19564348094166667\n",
            "l2 0.1884619103208333\n",
            "manhattan 0.19564348094166667\n"
          ]
        }
      ]
    },
    {
      "cell_type": "code",
      "source": [
        "ks = []\n",
        "for i in range(1,30):\n",
        "    pipeline = make_pipeline(\n",
        "      col_trans,\n",
        "      KNeighborsRegressor(n_neighbors=i))\n",
        "    scores = cross_val_score(\n",
        "    pipeline,\n",
        "        X=df_CIS[['GDP', 'support', 'agency']],\n",
        "        y = df_CIS['happy'],\n",
        "        scoring= 'neg_mean_squared_error',\n",
        "        cv=10)\n",
        "    avg = -1*(scores.mean())\n",
        "    ks.append(avg)\n",
        "    print(i, avg)\n",
        "\n",
        "line_plot = pd.Series(ks, index=range(1, 30)).plot.line()\n",
        "line_plot.set_xlabel(\"k\")\n",
        "line_plot.set_ylabel(\"Test RMSE\")"
      ],
      "metadata": {
        "colab": {
          "base_uri": "https://localhost:8080/",
          "height": 970
        },
        "id": "w_zdNGHlkW2L",
        "outputId": "3931af1a-3146-4810-9e68-21d8c514650f"
      },
      "execution_count": null,
      "outputs": [
        {
          "output_type": "stream",
          "name": "stdout",
          "text": [
            "1 0.28644759666666675\n",
            "2 0.22458194291666667\n",
            "3 0.21212597240740744\n",
            "4 0.19738828619791668\n",
            "5 0.1888041730666667\n",
            "6 0.19207068052083337\n",
            "7 0.18567115832482994\n",
            "8 0.1868207789192708\n",
            "9 0.18537848493827158\n",
            "10 0.1884619103208333\n",
            "11 0.19445872039600548\n",
            "12 0.2013324198842593\n",
            "13 0.20552125964003948\n",
            "14 0.20990748753613947\n",
            "15 0.21776522503333337\n",
            "16 0.21766225397298183\n",
            "17 0.22220665317329874\n",
            "18 0.22535332535879626\n",
            "19 0.22944480257733146\n",
            "20 0.22910393784791666\n",
            "21 0.23237147884731674\n",
            "22 0.23221482424586784\n",
            "23 0.231902354647133\n",
            "24 0.23237273537037034\n",
            "25 0.23445640946333332\n",
            "26 0.2377885765902367\n",
            "27 0.23950531156378602\n",
            "28 0.24179383198873294\n",
            "29 0.24369742706054298\n"
          ]
        },
        {
          "output_type": "execute_result",
          "data": {
            "text/plain": [
              "Text(0, 0.5, 'Test RMSE')"
            ]
          },
          "metadata": {},
          "execution_count": 336
        },
        {
          "output_type": "display_data",
          "data": {
            "text/plain": [
              "<Figure size 640x480 with 1 Axes>"
            ],
            "image/png": "[encoded data removed]"
          },
          "metadata": {}
        }
      ]
    },
    {
      "cell_type": "code",
      "source": [
        "col_trans = make_column_transformer(\n",
        "    (StandardScaler(), ['GDP', 'support','agency']),\n",
        "    remainder='drop')\n",
        "\n",
        "pipeline = make_pipeline(\n",
        "    col_trans,\n",
        "    KNeighborsRegressor(n_neighbors=9))\n",
        "\n",
        "scores = cross_val_score(\n",
        "    pipeline,\n",
        "    X=df_CIS[['GDP', 'support', 'agency']],\n",
        "    y = df_CIS['happy'],\n",
        "    scoring= 'neg_mean_squared_error',\n",
        "    cv=10)\n",
        "print(-scores.mean(), 'Optimized CIS')"
      ],
      "metadata": {
        "colab": {
          "base_uri": "https://localhost:8080/"
        },
        "id": "aqGqgJS9kWx5",
        "outputId": "2dadcc8a-a4eb-4938-f543-8f5df583309b"
      },
      "execution_count": null,
      "outputs": [
        {
          "output_type": "stream",
          "name": "stdout",
          "text": [
            "0.18537848493827158 Optimized CIS\n"
          ]
        }
      ]
    },
    {
      "cell_type": "markdown",
      "source": [
        "*Interpretation*\n",
        "---\n",
        "1. Correlation and Heatmap: The correlation across the board is minor. There is not any real variable that stands out.\n",
        "2. Feature Choice: However, The best model for prediction includes: GDP, support, and agency. This means we can best predict a countries happiness when taking into consideration economic prosperity, community, and agency.\n",
        "3. Parameters: The standard parameter and a standard number of neighbors. This tells me the model doesn't need much help as is.\n",
        "4. Error: The mean error for this model is 0.18, meaning that given a countries GPD, community, and agency this model could provide a predicted happiness with an error of 0.18 on a ten point scale."
      ],
      "metadata": {
        "id": "kQ4N-aNUUqsF"
      }
    },
    {
      "cell_type": "markdown",
      "source": [
        "# North American and ANZ"
      ],
      "metadata": {
        "id": "x1I0_KV6gEgV"
      }
    },
    {
      "cell_type": "code",
      "source": [
        "df_NA = bare_df[df.Region == 'North America and ANZ']\n",
        "corr_NA = df_NA.corr()\n",
        "sns.heatmap(corr_NA)"
      ],
      "metadata": {
        "colab": {
          "base_uri": "https://localhost:8080/",
          "height": 508
        },
        "id": "CGDF5ooPkYc2",
        "outputId": "3c7e585e-5bbc-483e-f74b-9ba7b5dd3558"
      },
      "execution_count": null,
      "outputs": [
        {
          "output_type": "execute_result",
          "data": {
            "text/plain": [
              "<Axes: >"
            ]
          },
          "metadata": {},
          "execution_count": 338
        },
        {
          "output_type": "display_data",
          "data": {
            "text/plain": [
              "<Figure size 640x480 with 2 Axes>"
            ],
            "image/png": "[encoded data removed]"
          },
          "metadata": {}
        }
      ]
    },
    {
      "cell_type": "code",
      "source": [
        "col_trans = make_column_transformer(\n",
        "    (StandardScaler(), ['GDP', 'support',\n",
        "     'life_expec', 'agency', 'gen', 'corrup']),\n",
        "    remainder='drop')\n",
        "\n",
        "pipeline = make_pipeline(\n",
        "    col_trans,\n",
        "    KNeighborsRegressor(n_neighbors=10))\n",
        "\n",
        "scores = cross_val_score(\n",
        "    pipeline,\n",
        "    X=df_NA[['GDP', 'support', 'life_expec', 'agency', 'gen', 'corrup']],\n",
        "    y = df_NA['happy'],\n",
        "    scoring= 'neg_mean_squared_error',\n",
        "    cv=10)\n",
        "print(-scores.mean(), 'NA all factors')\n",
        "\n",
        "col_trans = make_column_transformer(\n",
        "    (StandardScaler(), ['GDP', 'support', 'agency', 'gen', 'corrup']),\n",
        "    remainder='drop')\n",
        "\n",
        "pipeline = make_pipeline(\n",
        "    col_trans,\n",
        "    KNeighborsRegressor(n_neighbors=10))\n",
        "\n",
        "scores = cross_val_score(\n",
        "    pipeline,\n",
        "    X=df_NA[['GDP', 'support', 'agency', 'gen', 'corrup']],\n",
        "    y = df_NA['happy'],\n",
        "    scoring= 'neg_mean_squared_error',\n",
        "    cv=10)\n",
        "print(-scores.mean(), 'NA 1')\n",
        "\n",
        "col_trans = make_column_transformer(\n",
        "    (StandardScaler(), ['GDP', 'support', 'agency', 'gen']),\n",
        "    remainder='drop')\n",
        "\n",
        "pipeline = make_pipeline(\n",
        "    col_trans,\n",
        "    KNeighborsRegressor(n_neighbors=10))\n",
        "\n",
        "scores = cross_val_score(\n",
        "    pipeline,\n",
        "    X=df_NA[['GDP', 'support', 'agency', 'gen']],\n",
        "    y = df_NA['happy'],\n",
        "    scoring= 'neg_mean_squared_error',\n",
        "    cv=10)\n",
        "print(-scores.mean(), 'NA 2')\n",
        "\n",
        "col_trans = make_column_transformer(\n",
        "    (StandardScaler(), ['GDP', 'support', 'gen']),\n",
        "    remainder='drop')\n",
        "\n",
        "pipeline = make_pipeline(\n",
        "    col_trans,\n",
        "    KNeighborsRegressor(n_neighbors=10))\n",
        "\n",
        "scores = cross_val_score(\n",
        "    pipeline,\n",
        "    X=df_NA[['GDP', 'support', 'gen']],\n",
        "    y = df_NA['happy'],\n",
        "    scoring= 'neg_mean_squared_error',\n",
        "    cv=10)\n",
        "print(-scores.mean(), 'NA 3')\n",
        "\n",
        "col_trans = make_column_transformer(\n",
        "    (StandardScaler(), ['GDP', 'support', 'gen']),\n",
        "    remainder='drop')\n",
        "\n",
        "pipeline = make_pipeline(\n",
        "    col_trans,\n",
        "    KNeighborsRegressor(n_neighbors=10))\n",
        "\n",
        "scores = cross_val_score(\n",
        "    pipeline,\n",
        "    X=df_NA[['GDP', 'support', 'gen']],\n",
        "    y = df_NA['happy'],\n",
        "    scoring= 'neg_mean_squared_error',\n",
        "    cv=10)\n",
        "print(-scores.mean(), 'NA 4')"
      ],
      "metadata": {
        "colab": {
          "base_uri": "https://localhost:8080/"
        },
        "id": "x9xzfzwskYXL",
        "outputId": "b495f4eb-98c0-47af-98d6-0a42b63b9832"
      },
      "execution_count": null,
      "outputs": [
        {
          "output_type": "stream",
          "name": "stdout",
          "text": [
            "0.02221274843333335 NA all factors\n",
            "0.020822891266666716 NA 1\n",
            "0.019543104533333334 NA 2\n",
            "0.019250224666666694 NA 3\n",
            "0.019250224666666694 NA 4\n"
          ]
        }
      ]
    },
    {
      "cell_type": "code",
      "source": [
        "col_trans = make_column_transformer(\n",
        "    (StandardScaler(), ['GDP', 'support', 'gen']),\n",
        "    remainder='drop')\n",
        "\n",
        "pipeline = make_pipeline(\n",
        "    col_trans,\n",
        "    KNeighborsRegressor(n_neighbors=10))\n",
        "\n",
        "scores = cross_val_score(\n",
        "    pipeline,\n",
        "    X=df_NA[['GDP', 'support', 'gen']],\n",
        "    y = df_NA['happy'],\n",
        "    scoring= 'neg_mean_squared_error',\n",
        "    cv=10)\n",
        "print(-scores.mean(), 'NA Best Features')"
      ],
      "metadata": {
        "colab": {
          "base_uri": "https://localhost:8080/"
        },
        "id": "8Md_sKTwkYR6",
        "outputId": "f9d44660-b22d-46ae-fc2b-4aece0caa924"
      },
      "execution_count": null,
      "outputs": [
        {
          "output_type": "stream",
          "name": "stdout",
          "text": [
            "0.019250224666666694 NA Best Features\n"
          ]
        }
      ]
    },
    {
      "cell_type": "code",
      "source": [
        "metrics = ['cosine', 'euclidean',\n",
        "           'l1', 'l2', 'manhattan']\n",
        "for metric in metrics:\n",
        "    pipeline = make_pipeline(\n",
        "      col_trans,\n",
        "      KNeighborsRegressor(n_neighbors=10, metric= metric))\n",
        "    scores = cross_val_score(\n",
        "        pipeline,\n",
        "        X=df_NA[['GDP', 'support', 'gen']],\n",
        "        y = df_NA['happy'],\n",
        "        scoring= 'neg_mean_squared_error',\n",
        "        cv=10)\n",
        "    print(metric, -scores.mean())"
      ],
      "metadata": {
        "colab": {
          "base_uri": "https://localhost:8080/"
        },
        "id": "XWlA7GV-kYNT",
        "outputId": "dce2ddb7-e55b-403e-ed82-aae9d6d08977"
      },
      "execution_count": null,
      "outputs": [
        {
          "output_type": "stream",
          "name": "stdout",
          "text": [
            "cosine 0.02245109453333336\n",
            "euclidean 0.019250224666666694\n",
            "l1 0.02153035403333337\n",
            "l2 0.019250224666666694\n",
            "manhattan 0.02153035403333337\n"
          ]
        }
      ]
    },
    {
      "cell_type": "code",
      "source": [
        "ks = []\n",
        "for i in range(1,30):\n",
        "    pipeline = make_pipeline(\n",
        "      col_trans,\n",
        "      KNeighborsRegressor(n_neighbors=i))\n",
        "    scores = cross_val_score(\n",
        "        pipeline,\n",
        "        X=df_NA[['GDP', 'support', 'gen']],\n",
        "        y = df_NA['happy'],\n",
        "        scoring= 'neg_mean_squared_error',\n",
        "        cv=10)\n",
        "    avg = -1*(scores.mean())\n",
        "    ks.append(avg)\n",
        "    print(i, avg)\n",
        "\n",
        "line_plot = pd.Series(ks, index=range(1, 30)).plot.line()\n",
        "line_plot.set_xlabel(\"k\")\n",
        "line_plot.set_ylabel(\"Test RMSE\")"
      ],
      "metadata": {
        "colab": {
          "base_uri": "https://localhost:8080/",
          "height": 970
        },
        "id": "5mjrh8KpkYIY",
        "outputId": "5171fab6-957a-4f4b-db21-f009399c6f48"
      },
      "execution_count": null,
      "outputs": [
        {
          "output_type": "stream",
          "name": "stdout",
          "text": [
            "1 0.034221563333333406\n",
            "2 0.026416194166666702\n",
            "3 0.023404357407407414\n",
            "4 0.021802899375000028\n",
            "5 0.01978996640000005\n",
            "6 0.018658151111111118\n",
            "7 0.019558726734693898\n",
            "8 0.01918783786458336\n",
            "9 0.01910923193415638\n",
            "10 0.019250224666666694\n",
            "11 0.019122950000000024\n",
            "12 0.019668798055555586\n",
            "13 0.020056428875739676\n",
            "14 0.021047155357142917\n",
            "15 0.02118337140740747\n",
            "16 0.02135551638020835\n",
            "17 0.021670877024221484\n",
            "18 0.02181565574074073\n",
            "19 0.022551446500461658\n",
            "20 0.02311071284166665\n",
            "21 0.023479935079365067\n",
            "22 0.023890273698347075\n",
            "23 0.024450716477630682\n",
            "24 0.02444408858217595\n",
            "25 0.024981269077333355\n",
            "26 0.02549247392504933\n",
            "27 0.02628691149062643\n",
            "28 0.02686688825255102\n",
            "29 0.027476145774871185\n"
          ]
        },
        {
          "output_type": "execute_result",
          "data": {
            "text/plain": [
              "Text(0, 0.5, 'Test RMSE')"
            ]
          },
          "metadata": {},
          "execution_count": 342
        },
        {
          "output_type": "display_data",
          "data": {
            "text/plain": [
              "<Figure size 640x480 with 1 Axes>"
            ],
            "image/png": "[encoded data removed]"
          },
          "metadata": {}
        }
      ]
    },
    {
      "cell_type": "code",
      "source": [
        "col_trans = make_column_transformer(\n",
        "    (StandardScaler(), ['GDP', 'support', 'gen']),\n",
        "    remainder='drop')\n",
        "\n",
        "pipeline = make_pipeline(\n",
        "    col_trans,\n",
        "    KNeighborsRegressor(n_neighbors=6))\n",
        "\n",
        "scores = cross_val_score(\n",
        "    pipeline,\n",
        "    X=df_NA[['GDP', 'support', 'gen']],\n",
        "    y = df_NA['happy'],\n",
        "    scoring= 'neg_mean_squared_error',\n",
        "    cv=10)\n",
        "print(-scores.mean(), 'Optimized NA')"
      ],
      "metadata": {
        "colab": {
          "base_uri": "https://localhost:8080/"
        },
        "id": "pZUclbV9kYEU",
        "outputId": "6ff9e6a7-9735-4c6b-f7a8-6d98ed5cd15a"
      },
      "execution_count": null,
      "outputs": [
        {
          "output_type": "stream",
          "name": "stdout",
          "text": [
            "0.018658151111111118 Optimized NA\n"
          ]
        }
      ]
    },
    {
      "cell_type": "markdown",
      "source": [
        "*Interpretation*\n",
        "---\n",
        "1. Correlation and Heatmap: There is a high correlation between happiness and all other variables in the model. However, GDP stands out as an exception. This is interesting because every other region, there is a positive correlation from GDP, but in North America it is negative.\n",
        "2. Feature Choice: However, The best model for prediction includes: GDP, support, and Generosity. This means we can best predict a countries happiness when taking into consideration economic prosperity, community, and health.\n",
        "3. Parameters: The standard parameter and a standard number of neighbors. This tells me the model doesn't need much help as is.\n",
        "4. Error: The mean error for this model is 0.01. This is by far the lowest error we have seen. This means the set of variables we are using to estimate happiness is extremely useful."
      ],
      "metadata": {
        "id": "qVyadtxwUxJW"
      }
    },
    {
      "cell_type": "markdown",
      "source": [
        "# Western Europe"
      ],
      "metadata": {
        "id": "0MYi3sOGgJ9V"
      }
    },
    {
      "cell_type": "code",
      "source": [
        "df_WE = bare_df[df.Region == 'Western Europe']\n",
        "corr_WE = df_WE.corr()\n",
        "sns.heatmap(corr_WE)"
      ],
      "metadata": {
        "colab": {
          "base_uri": "https://localhost:8080/",
          "height": 508
        },
        "id": "fwxcdIy8kZqP",
        "outputId": "8243ecd7-7988-4d6e-9e5b-e6173d9300a8"
      },
      "execution_count": null,
      "outputs": [
        {
          "output_type": "execute_result",
          "data": {
            "text/plain": [
              "<Axes: >"
            ]
          },
          "metadata": {},
          "execution_count": 344
        },
        {
          "output_type": "display_data",
          "data": {
            "text/plain": [
              "<Figure size 640x480 with 2 Axes>"
            ],
            "image/png": "[encoded data removed]"
          },
          "metadata": {}
        }
      ]
    },
    {
      "cell_type": "code",
      "source": [
        "col_trans = make_column_transformer(\n",
        "    (StandardScaler(), ['GDP', 'support',\n",
        "     'life_expec', 'agency', 'gen', 'corrup']),\n",
        "    remainder='drop')\n",
        "\n",
        "pipeline = make_pipeline(\n",
        "    col_trans,\n",
        "    KNeighborsRegressor(n_neighbors=10))\n",
        "\n",
        "scores = cross_val_score(\n",
        "    pipeline,\n",
        "    X=df_WE[['GDP', 'support', 'life_expec', 'agency', 'gen', 'corrup']],\n",
        "    y = df_WE['happy'],\n",
        "    scoring= 'neg_mean_squared_error',\n",
        "    cv=10)\n",
        "print(-scores.mean(), 'WE all factors')\n",
        "\n",
        "col_trans = make_column_transformer(\n",
        "    (StandardScaler(), ['GDP', 'support', 'agency', 'gen', 'corrup']),\n",
        "    remainder='drop')\n",
        "\n",
        "pipeline = make_pipeline(\n",
        "    col_trans,\n",
        "    KNeighborsRegressor(n_neighbors=10))\n",
        "\n",
        "scores = cross_val_score(\n",
        "    pipeline,\n",
        "    X=df_WE[['GDP', 'support', 'agency', 'gen', 'corrup']],\n",
        "    y = df_WE['happy'],\n",
        "    scoring= 'neg_mean_squared_error',\n",
        "    cv=10)\n",
        "print(-scores.mean(), 'WE 1')\n",
        "\n",
        "col_trans = make_column_transformer(\n",
        "    (StandardScaler(), ['GDP', 'support', 'agency', 'corrup']),\n",
        "    remainder='drop')\n",
        "\n",
        "pipeline = make_pipeline(\n",
        "    col_trans,\n",
        "    KNeighborsRegressor(n_neighbors=10))\n",
        "\n",
        "scores = cross_val_score(\n",
        "    pipeline,\n",
        "    X=df_WE[['GDP', 'support', 'agency', 'corrup']],\n",
        "    y = df_WE['happy'],\n",
        "    scoring= 'neg_mean_squared_error',\n",
        "    cv=10)\n",
        "print(-scores.mean(), 'WE 2')\n",
        "\n",
        "col_trans = make_column_transformer(\n",
        "    (StandardScaler(), ['GDP', 'agency', 'corrup']),\n",
        "    remainder='drop')\n",
        "\n",
        "pipeline = make_pipeline(\n",
        "    col_trans,\n",
        "    KNeighborsRegressor(n_neighbors=10))\n",
        "\n",
        "scores = cross_val_score(\n",
        "    pipeline,\n",
        "    X=df_WE[['GDP', 'agency', 'corrup']],\n",
        "    y = df_WE['happy'],\n",
        "    scoring= 'neg_mean_squared_error',\n",
        "    cv=10)\n",
        "print(-scores.mean(), 'WE 3')\n",
        "\n",
        "col_trans = make_column_transformer(\n",
        "    (StandardScaler(), ['GDP','corrup']),\n",
        "    remainder='drop')\n",
        "\n",
        "pipeline = make_pipeline(\n",
        "    col_trans,\n",
        "    KNeighborsRegressor(n_neighbors=10))\n",
        "\n",
        "scores = cross_val_score(\n",
        "    pipeline,\n",
        "    X=df_WE[['GDP','corrup']],\n",
        "    y = df_WE['happy'],\n",
        "    scoring= 'neg_mean_squared_error',\n",
        "    cv=10)\n",
        "print(-scores.mean(), 'WE 4')\n",
        "\n",
        "col_trans = make_column_transformer(\n",
        "    (StandardScaler(), ['GDP','corrup']),\n",
        "    remainder='drop')\n",
        "\n",
        "pipeline = make_pipeline(\n",
        "    col_trans,\n",
        "    KNeighborsRegressor(n_neighbors=10))\n",
        "\n",
        "scores = cross_val_score(\n",
        "    pipeline,\n",
        "    X=df_WE[['GDP','corrup']],\n",
        "    y = df_WE['happy'],\n",
        "    scoring= 'neg_mean_squared_error',\n",
        "    cv=10)\n",
        "print(-scores.mean(), 'WE 5')"
      ],
      "metadata": {
        "colab": {
          "base_uri": "https://localhost:8080/"
        },
        "id": "hp-LbSfxkZl2",
        "outputId": "72896a8c-0006-4f3a-e38e-8166596046ae"
      },
      "execution_count": null,
      "outputs": [
        {
          "output_type": "stream",
          "name": "stdout",
          "text": [
            "0.16081236221166667 WE all factors\n",
            "0.14827548742333335 WE 1\n",
            "0.13940783925166672 WE 2\n",
            "0.1222089319383333 WE 3\n",
            "0.07767449844499999 WE 4\n",
            "0.07767449844499999 WE 5\n"
          ]
        }
      ]
    },
    {
      "cell_type": "code",
      "source": [
        "col_trans = make_column_transformer(\n",
        "    (StandardScaler(), ['GDP','corrup']),\n",
        "    remainder='drop')\n",
        "\n",
        "pipeline = make_pipeline(\n",
        "    col_trans,\n",
        "    KNeighborsRegressor(n_neighbors=10))\n",
        "\n",
        "scores = cross_val_score(\n",
        "    pipeline,\n",
        "    X=df_WE[['GDP','corrup']],\n",
        "    y = df_WE['happy'],\n",
        "    scoring= 'neg_mean_squared_error',\n",
        "    cv=10)\n",
        "print(-scores.mean(), 'WE Best Features')"
      ],
      "metadata": {
        "colab": {
          "base_uri": "https://localhost:8080/"
        },
        "id": "CirlHB1JkZhq",
        "outputId": "1956c8ce-5e3e-4fc0-ac63-1987e2e61939"
      },
      "execution_count": null,
      "outputs": [
        {
          "output_type": "stream",
          "name": "stdout",
          "text": [
            "0.07767449844499999 WE Best Features\n"
          ]
        }
      ]
    },
    {
      "cell_type": "code",
      "source": [
        "metrics = ['cosine', 'euclidean',\n",
        "           'l1', 'l2', 'manhattan']\n",
        "for metric in metrics:\n",
        "    pipeline = make_pipeline(\n",
        "      col_trans,\n",
        "      KNeighborsRegressor(n_neighbors=10, metric= metric))\n",
        "    scores = cross_val_score(\n",
        "        pipeline,\n",
        "        X=df_WE[['GDP','corrup']],\n",
        "        y = df_WE['happy'],\n",
        "        scoring= 'neg_mean_squared_error',\n",
        "        cv=10)\n",
        "    print(metric, -scores.mean())"
      ],
      "metadata": {
        "colab": {
          "base_uri": "https://localhost:8080/"
        },
        "id": "w-EbcrllkZdd",
        "outputId": "36ff11de-8927-45ee-d635-a494a0db2f31"
      },
      "execution_count": null,
      "outputs": [
        {
          "output_type": "stream",
          "name": "stdout",
          "text": [
            "cosine 0.1970101665666666\n",
            "euclidean 0.07767449844499999\n",
            "l1 0.07647495179\n",
            "l2 0.07767449844499999\n",
            "manhattan 0.07647495179\n"
          ]
        }
      ]
    },
    {
      "cell_type": "code",
      "source": [
        "ks = []\n",
        "for i in range(1,30):\n",
        "    pipeline = make_pipeline(\n",
        "      col_trans,\n",
        "      KNeighborsRegressor(n_neighbors=i, metric= 'manhattan'))\n",
        "    scores = cross_val_score(\n",
        "        pipeline,\n",
        "        X=df_WE[['GDP','corrup']],\n",
        "        y = df_WE['happy'],\n",
        "        scoring= 'neg_mean_squared_error',\n",
        "        cv=10)\n",
        "    avg = -1*(scores.mean())\n",
        "    ks.append(avg)\n",
        "    print(i, avg)\n",
        "\n",
        "line_plot = pd.Series(ks, index=range(1, 30)).plot.line()\n",
        "line_plot.set_xlabel(\"k\")\n",
        "line_plot.set_ylabel(\"Test RMSE\")"
      ],
      "metadata": {
        "colab": {
          "base_uri": "https://localhost:8080/",
          "height": 970
        },
        "id": "RlJN29zQkZZS",
        "outputId": "9180081d-b7de-4194-8e51-5d8a513fa3e7"
      },
      "execution_count": null,
      "outputs": [
        {
          "output_type": "stream",
          "name": "stdout",
          "text": [
            "1 0.12275192583333332\n",
            "2 0.09924838904166666\n",
            "3 0.09187891144444449\n",
            "4 0.08141244981250002\n",
            "5 0.07646705822000002\n",
            "6 0.07680665076388891\n",
            "7 0.07633619082312922\n",
            "8 0.07631898065625\n",
            "9 0.07531909564197528\n",
            "10 0.07647495179\n",
            "11 0.07507575940082643\n",
            "12 0.07679089219907405\n",
            "13 0.0778823085848126\n",
            "14 0.07897929585714286\n",
            "15 0.08095692714148148\n",
            "16 0.08207515202213542\n",
            "17 0.08311901437831604\n",
            "18 0.08401463282047325\n",
            "19 0.0847107370170822\n",
            "20 0.0850004613504167\n",
            "21 0.08599538303287986\n",
            "22 0.08698176561122599\n",
            "23 0.08678011124165101\n",
            "24 0.08742718986024309\n",
            "25 0.0892030390850667\n",
            "26 0.09116983966469432\n",
            "27 0.09187603475857344\n",
            "28 0.09331209182716836\n",
            "29 0.09450868698454226\n"
          ]
        },
        {
          "output_type": "execute_result",
          "data": {
            "text/plain": [
              "Text(0, 0.5, 'Test RMSE')"
            ]
          },
          "metadata": {},
          "execution_count": 348
        },
        {
          "output_type": "display_data",
          "data": {
            "text/plain": [
              "<Figure size 640x480 with 1 Axes>"
            ],
            "image/png": "[encoded data removed]"
          },
          "metadata": {}
        }
      ]
    },
    {
      "cell_type": "code",
      "source": [
        "col_trans = make_column_transformer(\n",
        "    (StandardScaler(), ['GDP','corrup']),\n",
        "    remainder='drop')\n",
        "\n",
        "pipeline = make_pipeline(\n",
        "    col_trans,\n",
        "    KNeighborsRegressor(n_neighbors=11, metric='manhattan'))\n",
        "\n",
        "scores = cross_val_score(\n",
        "    pipeline,\n",
        "    X=df_WE[['GDP','corrup']],\n",
        "    y = df_WE['happy'],\n",
        "    scoring= 'neg_mean_squared_error',\n",
        "    cv=10)\n",
        "print(-scores.mean(), 'Optimized WE')"
      ],
      "metadata": {
        "colab": {
          "base_uri": "https://localhost:8080/"
        },
        "id": "K4chpsSfkZU_",
        "outputId": "7d83ed94-9990-426e-ad2c-039d86737a75"
      },
      "execution_count": null,
      "outputs": [
        {
          "output_type": "stream",
          "name": "stdout",
          "text": [
            "0.07507575940082643 Optimized WE\n"
          ]
        }
      ]
    },
    {
      "cell_type": "markdown",
      "source": [
        "*Interpretation*\n",
        "---\n",
        "1. Correlation and Heatmap: There is a high correlation between happiness and all other variables in the model.\n",
        "2. Feature Choice: However, The best model for prediction includes: GDP and corruption. This means that we only need to address economic prosperity and corruption. This is interesting because we don't need to consider any other factor in happiness. This may be because all other factors are so high that there isn't data on low support, health, generosity, and agency.\n",
        "3. Parameters: The metric used is manhattan meaning that closer neighbors offer better predictions.\n",
        "4. Error: The mean error for this model is 0.07, while its not the lowest, it is very close in estimation. This means the set of data we are using is well fit to predict countries in Western Europe."
      ],
      "metadata": {
        "id": "oaNvBKMhU2MO"
      }
    },
    {
      "cell_type": "markdown",
      "source": [
        "# Southeast Asia"
      ],
      "metadata": {
        "id": "7jcEqKrAgN-6"
      }
    },
    {
      "cell_type": "code",
      "source": [
        "df_SEA = bare_df[df.Region == 'Southeast Asia']\n",
        "corr_SEA = df_SEA.corr()\n",
        "sns.heatmap(corr_SEA)"
      ],
      "metadata": {
        "colab": {
          "base_uri": "https://localhost:8080/",
          "height": 508
        },
        "id": "iL0XT-_kka8W",
        "outputId": "63a13888-f3a2-44aa-a0ac-65103bef0420"
      },
      "execution_count": null,
      "outputs": [
        {
          "output_type": "execute_result",
          "data": {
            "text/plain": [
              "<Axes: >"
            ]
          },
          "metadata": {},
          "execution_count": 350
        },
        {
          "output_type": "display_data",
          "data": {
            "text/plain": [
              "<Figure size 640x480 with 2 Axes>"
            ],
            "image/png": "[encoded data removed]"
          },
          "metadata": {}
        }
      ]
    },
    {
      "cell_type": "code",
      "source": [
        "col_trans = make_column_transformer(\n",
        "    (StandardScaler(), ['GDP', 'support',\n",
        "     'life_expec', 'agency', 'gen', 'corrup']),\n",
        "    remainder='drop')\n",
        "\n",
        "pipeline = make_pipeline(\n",
        "    col_trans,\n",
        "    KNeighborsRegressor(n_neighbors=10))\n",
        "\n",
        "scores = cross_val_score(\n",
        "    pipeline,\n",
        "    X=df_SEA[['GDP', 'support', 'life_expec', 'agency', 'gen', 'corrup']],\n",
        "    y = df_SEA['happy'],\n",
        "    scoring= 'neg_mean_squared_error',\n",
        "    cv=10)\n",
        "print(-scores.mean(), 'SEA all factors')\n",
        "\n",
        "col_trans = make_column_transformer(\n",
        "    (StandardScaler(), ['GDP', 'support', 'life_expec', 'gen', 'corrup']),\n",
        "    remainder='drop')\n",
        "\n",
        "pipeline = make_pipeline(\n",
        "    col_trans,\n",
        "    KNeighborsRegressor(n_neighbors=10))\n",
        "\n",
        "scores = cross_val_score(\n",
        "    pipeline,\n",
        "    X=df_SEA[['GDP', 'support', 'life_expec', 'gen', 'corrup']],\n",
        "    y = df_SEA['happy'],\n",
        "    scoring= 'neg_mean_squared_error',\n",
        "    cv=10)\n",
        "print(-scores.mean(), 'SEA 1')\n",
        "\n",
        "col_trans = make_column_transformer(\n",
        "    (StandardScaler(), ['GDP', 'support', 'life_expec','corrup']),\n",
        "    remainder='drop')\n",
        "\n",
        "pipeline = make_pipeline(\n",
        "    col_trans,\n",
        "    KNeighborsRegressor(n_neighbors=10))\n",
        "\n",
        "scores = cross_val_score(\n",
        "    pipeline,\n",
        "    X=df_SEA[['GDP', 'support', 'life_expec', 'corrup']],\n",
        "    y = df_SEA['happy'],\n",
        "    scoring= 'neg_mean_squared_error',\n",
        "    cv=10)\n",
        "print(-scores.mean(), 'SEA 2')\n",
        "\n",
        "col_trans = make_column_transformer(\n",
        "    (StandardScaler(), ['GDP', 'support', 'life_expec']),\n",
        "    remainder='drop')\n",
        "\n",
        "pipeline = make_pipeline(\n",
        "    col_trans,\n",
        "    KNeighborsRegressor(n_neighbors=10))\n",
        "\n",
        "scores = cross_val_score(\n",
        "    pipeline,\n",
        "    X=df_SEA[['GDP', 'support', 'life_expec']],\n",
        "    y = df_SEA['happy'],\n",
        "    scoring= 'neg_mean_squared_error',\n",
        "    cv=10)\n",
        "print(-scores.mean(), 'SEA 3')\n",
        "\n",
        "col_trans = make_column_transformer(\n",
        "    (StandardScaler(), ['GDP','life_expec']),\n",
        "    remainder='drop')\n",
        "\n",
        "pipeline = make_pipeline(\n",
        "    col_trans,\n",
        "    KNeighborsRegressor(n_neighbors=10))\n",
        "\n",
        "scores = cross_val_score(\n",
        "    pipeline,\n",
        "    X=df_SEA[['GDP', 'life_expec']],\n",
        "    y = df_SEA['happy'],\n",
        "    scoring= 'neg_mean_squared_error',\n",
        "    cv=10)\n",
        "print(-scores.mean(), 'SEA 4')"
      ],
      "metadata": {
        "colab": {
          "base_uri": "https://localhost:8080/"
        },
        "id": "9h9vj67_ka4B",
        "outputId": "4252e958-5744-41f0-cee6-f55dd570aca7"
      },
      "execution_count": null,
      "outputs": [
        {
          "output_type": "stream",
          "name": "stdout",
          "text": [
            "0.24780974674545453 SEA all factors\n",
            "0.23666777399090905 SEA 1\n",
            "0.20851778553636358 SEA 2\n",
            "0.20292968171818176 SEA 3\n",
            "0.1853473765363635 SEA 4\n"
          ]
        }
      ]
    },
    {
      "cell_type": "code",
      "source": [
        "col_trans = make_column_transformer(\n",
        "    (StandardScaler(), ['GDP','life_expec']),\n",
        "    remainder='drop')\n",
        "\n",
        "pipeline = make_pipeline(\n",
        "    col_trans,\n",
        "    KNeighborsRegressor(n_neighbors=10))\n",
        "\n",
        "scores = cross_val_score(\n",
        "    pipeline,\n",
        "    X=df_SEA[['GDP', 'life_expec']],\n",
        "    y = df_SEA['happy'],\n",
        "    scoring= 'neg_mean_squared_error',\n",
        "    cv=10)\n",
        "print(-scores.mean(), 'SEA Best Features')"
      ],
      "metadata": {
        "colab": {
          "base_uri": "https://localhost:8080/"
        },
        "id": "kewyfRHDkazH",
        "outputId": "6e1323ec-29d1-4ee4-b70f-05dcd10170e2"
      },
      "execution_count": null,
      "outputs": [
        {
          "output_type": "stream",
          "name": "stdout",
          "text": [
            "0.1853473765363635 SEA Best Features\n"
          ]
        }
      ]
    },
    {
      "cell_type": "code",
      "source": [
        "metrics = ['cosine', 'euclidean',\n",
        "           'l1', 'l2', 'manhattan']\n",
        "for metric in metrics:\n",
        "    pipeline = make_pipeline(\n",
        "      col_trans,\n",
        "      KNeighborsRegressor(n_neighbors=10, metric= metric))\n",
        "    scores = cross_val_score(\n",
        "        pipeline,\n",
        "        X=df_SEA[['GDP', 'life_expec']],\n",
        "        y = df_SEA['happy'],\n",
        "        scoring= 'neg_mean_squared_error',\n",
        "        cv=10)\n",
        "    print(metric, -scores.mean())"
      ],
      "metadata": {
        "colab": {
          "base_uri": "https://localhost:8080/"
        },
        "id": "rGHLRpqqkate",
        "outputId": "76d919d2-4ac7-4951-b96f-843741c96a52"
      },
      "execution_count": null,
      "outputs": [
        {
          "output_type": "stream",
          "name": "stdout",
          "text": [
            "cosine 0.3748794769363637\n",
            "euclidean 0.1853473765363635\n",
            "l1 0.19967715820909074\n",
            "l2 0.1853473765363635\n",
            "manhattan 0.19967715820909074\n"
          ]
        }
      ]
    },
    {
      "cell_type": "code",
      "source": [
        "ks = []\n",
        "for i in range(1,30):\n",
        "    pipeline = make_pipeline(\n",
        "      col_trans,\n",
        "      KNeighborsRegressor(n_neighbors=i, metric= 'manhattan'))\n",
        "    scores = cross_val_score(\n",
        "        pipeline,\n",
        "        X=df_SEA[['GDP', 'life_expec']],\n",
        "        y = df_SEA['happy'],\n",
        "        scoring= 'neg_mean_squared_error',\n",
        "        cv=10)\n",
        "    avg = -1*(scores.mean())\n",
        "    ks.append(avg)\n",
        "    print(i, avg)\n",
        "\n",
        "line_plot = pd.Series(ks, index=range(1, 30)).plot.line()\n",
        "line_plot.set_xlabel(\"k\")\n",
        "line_plot.set_ylabel(\"Test RMSE\")"
      ],
      "metadata": {
        "colab": {
          "base_uri": "https://localhost:8080/",
          "height": 970
        },
        "id": "UhnCL1pkkanx",
        "outputId": "94a95165-61db-4e1e-cde4-4523bc48b677"
      },
      "execution_count": null,
      "outputs": [
        {
          "output_type": "stream",
          "name": "stdout",
          "text": [
            "1 0.35038240818181815\n",
            "2 0.27171957181818174\n",
            "3 0.23664445747474744\n",
            "4 0.22507673068181816\n",
            "5 0.21493226196363638\n",
            "6 0.21938159853535355\n",
            "7 0.22216397654916514\n",
            "8 0.209954385340909\n",
            "9 0.20516605810325467\n",
            "10 0.19967715820909074\n",
            "11 0.1927512512546957\n",
            "12 0.18573506706439386\n",
            "13 0.1850579070790747\n",
            "14 0.18318755328849717\n",
            "15 0.1807013265898989\n",
            "16 0.18520195382812502\n",
            "17 0.1868922106385655\n",
            "18 0.19102807092873186\n",
            "19 0.19161457410224125\n",
            "20 0.19732272436818182\n",
            "21 0.2049618383591012\n",
            "22 0.2037881463974455\n",
            "23 0.20644661534971648\n",
            "24 0.20861746921243682\n",
            "25 0.21077139652363625\n",
            "26 0.21277170547606242\n",
            "27 0.2127583866953484\n",
            "28 0.2157425764413265\n",
            "29 0.22183961109285466\n"
          ]
        },
        {
          "output_type": "execute_result",
          "data": {
            "text/plain": [
              "Text(0, 0.5, 'Test RMSE')"
            ]
          },
          "metadata": {},
          "execution_count": 354
        },
        {
          "output_type": "display_data",
          "data": {
            "text/plain": [
              "<Figure size 640x480 with 1 Axes>"
            ],
            "image/png": "[encoded data removed]"
          },
          "metadata": {}
        }
      ]
    },
    {
      "cell_type": "code",
      "source": [
        "col_trans = make_column_transformer(\n",
        "    (StandardScaler(), ['GDP','life_expec']),\n",
        "    remainder='drop')\n",
        "\n",
        "pipeline = make_pipeline(\n",
        "    col_trans,\n",
        "    KNeighborsRegressor(n_neighbors=15))\n",
        "\n",
        "scores = cross_val_score(\n",
        "    pipeline,\n",
        "    X=df_SEA[['GDP', 'life_expec']],\n",
        "    y = df_SEA['happy'],\n",
        "    scoring= 'neg_mean_squared_error',\n",
        "    cv=10)\n",
        "print(-scores.mean(), 'Optimized SEA')"
      ],
      "metadata": {
        "colab": {
          "base_uri": "https://localhost:8080/"
        },
        "id": "QhegvEItkaY7",
        "outputId": "3e22eb89-c854-497f-b925-7255fa6be02f"
      },
      "execution_count": null,
      "outputs": [
        {
          "output_type": "stream",
          "name": "stdout",
          "text": [
            "0.1839078786424242 Optimized SEA\n"
          ]
        }
      ]
    },
    {
      "cell_type": "markdown",
      "source": [
        "*Interpretation*\n",
        "---\n",
        "1. Correlation and Heatmap: There is a high correlation between happiness and most varibles except for generosity and corruption.\n",
        "2. Feature Choice: However, The best model for prediction includes: GDP and life_expec. This means we can best predict a countries happiness when taking into consideration economic prosperity and health.\n",
        "3. Parameters: The standard parameter and a standard number of neighbors. This tells me the model doesn't need much help as is.\n",
        "4. Error: The mean error for this model is 0.18, meaning that given a countries GPD and health this model could provide a predicted happiness with an error of 0.18 on a ten point scale."
      ],
      "metadata": {
        "id": "tYx7M-sgVBdY"
      }
    },
    {
      "cell_type": "markdown",
      "source": [
        "# East Asia"
      ],
      "metadata": {
        "id": "M1Urwj-6gRdm"
      }
    },
    {
      "cell_type": "code",
      "source": [
        "df_EA = bare_df[df.Region == 'East Asia']\n",
        "corr_EA = df_EA.corr()\n",
        "sns.heatmap(corr_EA)"
      ],
      "metadata": {
        "colab": {
          "base_uri": "https://localhost:8080/",
          "height": 508
        },
        "id": "ywJ2EC-0kccg",
        "outputId": "8f63542f-fabb-4c97-9883-7e5b11cd17c6"
      },
      "execution_count": null,
      "outputs": [
        {
          "output_type": "execute_result",
          "data": {
            "text/plain": [
              "<Axes: >"
            ]
          },
          "metadata": {},
          "execution_count": 356
        },
        {
          "output_type": "display_data",
          "data": {
            "text/plain": [
              "<Figure size 640x480 with 2 Axes>"
            ],
            "image/png": "[encoded data removed]"
          },
          "metadata": {}
        }
      ]
    },
    {
      "cell_type": "code",
      "source": [
        "col_trans = make_column_transformer(\n",
        "    (StandardScaler(), ['GDP', 'support',\n",
        "     'life_expec', 'agency', 'gen', 'corrup']),\n",
        "    remainder='drop')\n",
        "\n",
        "pipeline = make_pipeline(\n",
        "    col_trans,\n",
        "    KNeighborsRegressor(n_neighbors=10))\n",
        "\n",
        "scores = cross_val_score(\n",
        "    pipeline,\n",
        "    X=df_EA[['GDP', 'support', 'life_expec', 'agency', 'gen', 'corrup']],\n",
        "    y = df_EA['happy'],\n",
        "    scoring= 'neg_mean_squared_error',\n",
        "    cv=10)\n",
        "print(-scores.mean(), 'EA all factors')\n",
        "\n",
        "col_trans = make_column_transformer(\n",
        "    (StandardScaler(), ['GDP', 'support', 'life_expec', 'agency', 'corrup']),\n",
        "    remainder='drop')\n",
        "\n",
        "pipeline = make_pipeline(\n",
        "    col_trans,\n",
        "    KNeighborsRegressor(n_neighbors=10))\n",
        "\n",
        "scores = cross_val_score(\n",
        "    pipeline,\n",
        "    X=df_EA[['GDP', 'support', 'life_expec', 'agency', 'corrup']],\n",
        "    y = df_EA['happy'],\n",
        "    scoring= 'neg_mean_squared_error',\n",
        "    cv=10)\n",
        "print(-scores.mean(), 'EA 1')"
      ],
      "metadata": {
        "colab": {
          "base_uri": "https://localhost:8080/"
        },
        "id": "Vkq37EkskcXN",
        "outputId": "d1c5adf7-0e55-4221-b4d2-525067360d41"
      },
      "execution_count": null,
      "outputs": [
        {
          "output_type": "stream",
          "name": "stdout",
          "text": [
            "0.14100159274999996 EA all factors\n",
            "0.13964080199999995 EA 1\n"
          ]
        }
      ]
    },
    {
      "cell_type": "code",
      "source": [
        "pipeline = make_pipeline(\n",
        "    col_trans,\n",
        "    KNeighborsRegressor(n_neighbors=10))\n",
        "\n",
        "scores = cross_val_score(\n",
        "    pipeline,\n",
        "    X=df_EA[['GDP', 'support', 'life_expec', 'agency', 'corrup']],\n",
        "    y = df_EA['happy'],\n",
        "    scoring= 'neg_mean_squared_error',\n",
        "    cv=10)\n",
        "print(-scores.mean(), 'EA Best Features')"
      ],
      "metadata": {
        "colab": {
          "base_uri": "https://localhost:8080/"
        },
        "id": "63grRJkFkcSB",
        "outputId": "cc1d2389-16e2-4be3-fc74-0c6fc7b5f846"
      },
      "execution_count": null,
      "outputs": [
        {
          "output_type": "stream",
          "name": "stdout",
          "text": [
            "0.13964080199999995 EA Best Features\n"
          ]
        }
      ]
    },
    {
      "cell_type": "code",
      "source": [
        "metrics = ['cosine', 'euclidean',\n",
        "           'l1', 'l2', 'manhattan']\n",
        "for metric in metrics:\n",
        "    pipeline = make_pipeline(\n",
        "      col_trans,\n",
        "      KNeighborsRegressor(n_neighbors=10, metric= metric))\n",
        "    scores = cross_val_score(\n",
        "        pipeline,\n",
        "        X=df_EA[['GDP', 'support', 'life_expec', 'agency', 'corrup']],\n",
        "        y = df_EA['happy'],\n",
        "        scoring= 'neg_mean_squared_error',\n",
        "        cv=10)\n",
        "    print(metric, -scores.mean())"
      ],
      "metadata": {
        "colab": {
          "base_uri": "https://localhost:8080/"
        },
        "id": "LugBQVP4kcNF",
        "outputId": "0e322032-f551-4682-b807-4fbed86c0c95"
      },
      "execution_count": null,
      "outputs": [
        {
          "output_type": "stream",
          "name": "stdout",
          "text": [
            "cosine 0.15929319630000005\n",
            "euclidean 0.13964080199999995\n",
            "l1 0.14104545750000003\n",
            "l2 0.13964080199999995\n",
            "manhattan 0.14104545750000003\n"
          ]
        }
      ]
    },
    {
      "cell_type": "code",
      "source": [
        "ks = []\n",
        "for i in range(1,30):\n",
        "    pipeline = make_pipeline(\n",
        "      col_trans,\n",
        "      KNeighborsRegressor(n_neighbors=i))\n",
        "    scores = cross_val_score(\n",
        "        pipeline,\n",
        "        X=df_EA[['GDP', 'support', 'life_expec', 'agency', 'corrup']],\n",
        "        y = df_EA['happy'],\n",
        "        scoring= 'neg_mean_squared_error',\n",
        "        cv=10)\n",
        "    avg = -1*(scores.mean())\n",
        "    ks.append(avg)\n",
        "    print(i, avg)\n",
        "\n",
        "line_plot = pd.Series(ks, index=range(1, 30)).plot.line()\n",
        "line_plot.set_xlabel(\"k\")\n",
        "line_plot.set_ylabel(\"Test RMSE\")"
      ],
      "metadata": {
        "colab": {
          "base_uri": "https://localhost:8080/",
          "height": 970
        },
        "id": "ajKCU4D0kcHS",
        "outputId": "fe56cbe3-51bd-4571-d4e2-05d01fad9b72"
      },
      "execution_count": null,
      "outputs": [
        {
          "output_type": "stream",
          "name": "stdout",
          "text": [
            "1 0.17071027\n",
            "2 0.13744061374999994\n",
            "3 0.1306795344444444\n",
            "4 0.14697666843749985\n",
            "5 0.14550188699999983\n",
            "6 0.1579608490277777\n",
            "7 0.15457000030612245\n",
            "8 0.15018254539062492\n",
            "9 0.14864298259259248\n",
            "10 0.13964080199999995\n",
            "11 0.14514878516528923\n",
            "12 0.14618480468750006\n",
            "13 0.1480952073668639\n",
            "14 0.15704003094387756\n",
            "15 0.16836243344444451\n",
            "16 0.1778950030273437\n",
            "17 0.1829899685640139\n",
            "18 0.1904924226234567\n",
            "19 0.19345434051246535\n",
            "20 0.19830330516249994\n",
            "21 0.20608609938775505\n",
            "22 0.2085352262603307\n",
            "23 0.21443118621928173\n",
            "24 0.21881555213541684\n",
            "25 0.22619272211200023\n",
            "26 0.22927013559911255\n",
            "27 0.2326625669821675\n",
            "28 0.23685582074617356\n",
            "29 0.24238656294887048\n"
          ]
        },
        {
          "output_type": "execute_result",
          "data": {
            "text/plain": [
              "Text(0, 0.5, 'Test RMSE')"
            ]
          },
          "metadata": {},
          "execution_count": 360
        },
        {
          "output_type": "display_data",
          "data": {
            "text/plain": [
              "<Figure size 640x480 with 1 Axes>"
            ],
            "image/png": "[encoded data removed]"
          },
          "metadata": {}
        }
      ]
    },
    {
      "cell_type": "code",
      "source": [
        "col_trans = make_column_transformer(\n",
        "    (StandardScaler(), ['GDP', 'support', 'life_expec', 'agency', 'corrup']),\n",
        "    remainder='drop')\n",
        "\n",
        "pipeline = make_pipeline(\n",
        "    col_trans,\n",
        "    KNeighborsRegressor(n_neighbors=3))\n",
        "\n",
        "scores = cross_val_score(\n",
        "    pipeline,\n",
        "    X=df_EA[['GDP', 'support', 'life_expec', 'agency', 'corrup']],\n",
        "    y = df_EA['happy'],\n",
        "    scoring= 'neg_mean_squared_error',\n",
        "    cv=10)\n",
        "print(-scores.mean(), 'Optimized EA')"
      ],
      "metadata": {
        "colab": {
          "base_uri": "https://localhost:8080/"
        },
        "id": "lJmY9Q5Ukb8i",
        "outputId": "3ce00979-fae1-49e7-e5d9-11fdf7a4de2c"
      },
      "execution_count": null,
      "outputs": [
        {
          "output_type": "stream",
          "name": "stdout",
          "text": [
            "0.1306795344444444 Optimized EA\n"
          ]
        }
      ]
    },
    {
      "cell_type": "markdown",
      "source": [
        "*Interpretation*\n",
        "---\n",
        "1. Correlation and Heatmap: Correlation for East Asia is good across most variables but support, generosity and corruption have little correlation.\n",
        "2. Feature Choice: However, The best model for prediction includes: GDP, support, life_expec, agency, corruption. This means we can best predict a countries happiness when taking into consideration economic prosperity, community, health, freedom to make choices, and level of corruption.\n",
        "3. Parameters: The small numbers of neighbors points to the small number of countries present in the data set and that there is large variance in that small set.\n",
        "4. Error: The mean error for this model is 0.13, meaning that given a countries GPD, community, health, agency, and corruption this model could provide a predicted happiness with an error of 0.21 on a ten point scale."
      ],
      "metadata": {
        "id": "2gNky7cXVFrU"
      }
    },
    {
      "cell_type": "markdown",
      "source": [
        "# Final Interpretation\n",
        "---\n",
        "Overall this model of prediction seems to be useful in understanding what makes different regions happiest. However I do want to point out the best two models and the worst two models. The best two, with the lowest error, is North America and Western Europe. Both models resulted in errors below 1%. This suggests that this type of analysis using this type of dataset is good to estimate North American and Western European countries. The models that predicted the worst were Latin America and Sub-Saharan Africa. This means that the data itself is not fitted to the countries within that region.\n",
        "\n",
        "\n",
        "It is telling, I think, that the best models comes from countries that are considered \"Western Civilization\" and the two worst are from the global south. This communicates that the way we understand happiness and what affects is largely influenced by the dominate culture."
      ],
      "metadata": {
        "id": "kj5Z-xMSbvog"
      }
    }
  ]
}
