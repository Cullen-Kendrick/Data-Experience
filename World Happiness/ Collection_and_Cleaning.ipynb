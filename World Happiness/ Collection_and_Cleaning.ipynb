{
  "nbformat": 4,
  "nbformat_minor": 0,
  "metadata": {
    "colab": {
      "provenance": [],
      "toc_visible": true,
      "authorship_tag": "ABX9TyMBZBhb5vfvBpxG1IVLgvIs",
      "include_colab_link": true
    },
    "kernelspec": {
      "name": "python3",
      "display_name": "Python 3"
    },
    "language_info": {
      "name": "python"
    }
  },
  "cells": [
    {
      "cell_type": "markdown",
      "metadata": {
        "id": "view-in-github",
        "colab_type": "text"
      },
      "source": [
        "<a href=\"https://colab.research.google.com/github/Cullen-Kendrick/Data-Experience/blob/main/Collection_and_Cleaning.ipynb\" target=\"_parent\"><img src=\"https://colab.research.google.com/assets/colab-badge.svg\" alt=\"Open In Colab\"/></a>"
      ]
    },
    {
      "cell_type": "markdown",
      "source": [
        "**Research Question**\n",
        "---\n",
        "I am deeply interested in welbeing. I want to figure makes people happy, on a large scale. I want to know what factors of life impact peoples welbeing. In order to do this I wanted to collect data from across the world across time to see how different places were impacted by different factors. In working to solve this question we can do better work to improve peoples lives in meaningful ways. It is folly to expect that a solution in one place of the world would work across the globe. In attempting to answer the question of world happiness, hopefully we can better understand what we can do to help."
      ],
      "metadata": {
        "id": "jRiIb8RESWxe"
      }
    },
    {
      "cell_type": "markdown",
      "source": [
        "# Data Collection"
      ],
      "metadata": {
        "id": "V3Wtf0vfm_Cy"
      }
    },
    {
      "cell_type": "code",
      "execution_count": null,
      "metadata": {
        "id": "LWq5BYxY4uvc"
      },
      "outputs": [],
      "source": [
        "import pandas as pd\n",
        "\n",
        "regions = pd.read_csv(\"https://raw.githubusercontent.com/Cullen-Kendrick/Data-219/main/world-happiness-report-2021.csv\")\n",
        "df = pd.read_csv(\"https://raw.githubusercontent.com/Cullen-Kendrick/Data-219/main/world-happiness-report.csv\")"
      ]
    },
    {
      "cell_type": "markdown",
      "source": [
        "*Getting the Data*\n",
        "---\n",
        "Luckily, Kaggle had both datasets. The data was collected by the International Monetary Fund. The difference between the two is that the 2021 dataset was much cleaner and only focused on one year, whereas the secondary set was panel data across multiple years. I will be using the secondary dataset because having more data points provides more evidence and allows for more confidence in the conclusions that arise from said data."
      ],
      "metadata": {
        "id": "vQc2OuGoIB9j"
      }
    },
    {
      "cell_type": "markdown",
      "source": [
        "# Data Cleaning"
      ],
      "metadata": {
        "id": "pacmdPZ7nHdZ"
      }
    },
    {
      "cell_type": "code",
      "source": [
        "regions = regions[[\"Country name\", \"Regional indicator\"]]\n",
        "df = df.dropna()\n",
        "count = df[\"Country name\"].unique()\n",
        "regions = regions.sort_values(by=['Country name'])"
      ],
      "metadata": {
        "id": "FWAthH-S9WSu"
      },
      "execution_count": null,
      "outputs": []
    },
    {
      "cell_type": "markdown",
      "source": [
        "*Merging the Data Sets*\n",
        "---\n",
        "The important aspect of the first data set that I wanted to make sure I captured was the work done to categorize the countries by regions. I was interested in capturing this because it would allow me to seperate the set so that I could analyize the differences in world region and their reported happiness."
      ],
      "metadata": {
        "id": "lM7m283sJarq"
      }
    },
    {
      "cell_type": "code",
      "source": [
        "df = df.merge(regions, how='left', on='Country name')\n",
        "reg = df['Regional indicator'].unique()\n",
        "df['Region'] = df['Regional indicator']"
      ],
      "metadata": {
        "id": "nreHz3Yb9X5C"
      },
      "execution_count": null,
      "outputs": []
    },
    {
      "cell_type": "markdown",
      "source": [
        "*Manual Labeling*\n",
        "---\n",
        "Part of the problem in merging both data sets was that the base set that I wanted to use had more and different countries than the data set I was taking the regional indicator from. To fix this I had to encode by hand every country that showed up the base data set."
      ],
      "metadata": {
        "id": "SXil2aUDKEyR"
      }
    },
    {
      "cell_type": "code",
      "source": [
        "mask = df['Country name'] == 'Angola'\n",
        "df.loc[mask, 'Region'] = 'Sub-Saharan Africa'\n",
        "mask = df['Country name'] == 'Central African Republic'\n",
        "df.loc[mask, 'Region'] = 'Sub-Saharan Africa'\n",
        "mask = df['Country name'] == 'Congo (Kinshasa)'\n",
        "df.loc[mask, 'Region'] = 'Sub-Saharan Africa'\n",
        "mask = df['Country name'] == 'Djibouti'\n",
        "df.loc[mask, 'Region'] = 'Sub-Saharan Africa'\n",
        "mask = df['Country name'] == 'Guyana'\n",
        "df.loc[mask, 'Region'] = 'Sub-Saharan Africa'\n",
        "mask = df['Country name'] == 'Suriname'\n",
        "df.loc[mask, 'Region'] = 'Sub-Saharan Africa'"
      ],
      "metadata": {
        "id": "qf4dmOt-9Ynn"
      },
      "execution_count": null,
      "outputs": []
    },
    {
      "cell_type": "code",
      "source": [
        "mask = df['Country name'] == 'Qatar'\n",
        "df.loc[mask, 'Region'] = 'Middle East and North Africa'\n",
        "mask = df['Country name'] == 'Sudan'\n",
        "df.loc[mask, 'Region'] = 'Middle East and North Africa'\n",
        "mask = df['Country name'] == 'Syria'\n",
        "df.loc[mask, 'Region'] = 'Middle East and North Africa'"
      ],
      "metadata": {
        "id": "h_nIFgUN9cnw"
      },
      "execution_count": null,
      "outputs": []
    },
    {
      "cell_type": "code",
      "source": [
        "mask = df['Country name'] == 'Bhutan'\n",
        "df.loc[mask, 'Region'] = 'South Asia'\n",
        "\n",
        "mask = df['Country name'] == 'Trinidad and Tobago'\n",
        "df.loc[mask, 'Region'] = 'Latin America and Caribbean'\n",
        "mask = df['Country name'] == 'Belize'\n",
        "df.loc[mask, 'Region'] = 'Latin America and Caribbean'"
      ],
      "metadata": {
        "id": "qSZR6gUh9gqm"
      },
      "execution_count": null,
      "outputs": []
    },
    {
      "cell_type": "markdown",
      "source": [
        "*Variable Discussion*\n",
        "---\n",
        "In this section I wanted to reduce the number of columns I had to work with and I wanted to rename the other columns in order to make the work flow of this project much easier. Additionally, I want to quickly cover what each column represent. The 'Life Ladder' is meant to represent the average reported happiness of a country from 1 to 10. GDP per captia represents the economic prosperity of a country, and it has been logged because that reduces the large variances that emerge from comparing large countries, like the USA, to small countries, like Panema. Social Support, Life expectancy, Freedom to make choices, Generosity and Perceptions of Corruption are all self-explainitory."
      ],
      "metadata": {
        "id": "KSFzTjEVKyjE"
      }
    },
    {
      "cell_type": "code",
      "source": [
        "df = df.drop(columns=['Regional indicator',\n",
        "             'Positive affect', 'Negative affect'])\n",
        "df = df.rename(columns={'Life Ladder': 'happy', 'Log GDP per capita': 'GDP',\n",
        "                    'Social support': 'support', 'Healthy life expectancy at birth':\n",
        "                    'life_expec', 'Freedom to make life choices': 'agency',\n",
        "                    'Generosity': 'gen', 'Perceptions of corruption': 'corrup'})\n"
      ],
      "metadata": {
        "id": "86fcPOMh9iaP"
      },
      "execution_count": null,
      "outputs": []
    },
    {
      "cell_type": "code",
      "source": [
        "df.to_csv('clean_data.csv', index= False)"
      ],
      "metadata": {
        "id": "zJMGDJHp-tTy"
      },
      "execution_count": null,
      "outputs": []
    }
  ]
}
